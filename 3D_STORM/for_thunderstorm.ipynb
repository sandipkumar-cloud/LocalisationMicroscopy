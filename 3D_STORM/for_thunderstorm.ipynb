{
 "cells": [
  {
   "cell_type": "markdown",
   "metadata": {},
   "source": [
    "# Select data from 4PI-SMS mat file and write a csv for ThunderSTORM (an imageJ plugin for analysing localisation microscopy data)"
   ]
  },
  {
   "cell_type": "code",
   "execution_count": 1,
   "metadata": {},
   "outputs": [],
   "source": [
    "import pandas as pd\n",
    "import numpy as np"
   ]
  },
  {
   "cell_type": "code",
   "execution_count": 2,
   "metadata": {},
   "outputs": [],
   "source": [
    "# Here I load the mat file from 4PI-SMS which ends with tmpresult.mat\n",
    "\n",
    "import os\n",
    "from tkinter import filedialog\n",
    "\n",
    "curr_directory = os.getcwd() # will get current working directory\n",
    "file_name=  filedialog.askopenfilename(initialdir = curr_directory,title = \"Select file\",filetypes = ((\"tmpresult\",\"*.mat\"),(\"all files\",\"*.*\")))"
   ]
  },
  {
   "cell_type": "code",
   "execution_count": 3,
   "metadata": {},
   "outputs": [],
   "source": [
    "# Loading variables in mat file to numpy arrays\n",
    "from scipy.io import loadmat\n",
    "x = loadmat(file_name)['xresult']\n",
    "y = loadmat(file_name)['yresult']\n",
    "frame = loadmat(file_name)['tresult']\n",
    "bgresult = loadmat(file_name)['bgresult']\n",
    "Iresult = loadmat(file_name)['Iresult']"
   ]
  },
  {
   "cell_type": "code",
   "execution_count": 4,
   "metadata": {},
   "outputs": [],
   "source": [
    "# Here I convert the data from numpy array to pandas series\n",
    "x=pd.Series(np.ravel(x))\n",
    "y=pd.Series(np.ravel(y))\n",
    "frame=pd.Series(np.ravel(frame))\n",
    "bgresult=pd.Series(np.ravel(bgresult))\n",
    "Iresult=pd.Series(np.ravel(Iresult))"
   ]
  },
  {
   "cell_type": "code",
   "execution_count": 5,
   "metadata": {},
   "outputs": [],
   "source": [
    "# Here I create the variable id\n",
    "id = np.arange(len(x))+1\n",
    "frame=frame+1\n",
    "frame=frame.astype(int)"
   ]
  },
  {
   "cell_type": "code",
   "execution_count": 6,
   "metadata": {},
   "outputs": [],
   "source": [
    "# x and y are in pixels so I convert it to nanometres\n",
    "pix_size=129 # nanometres\n",
    "x=pix_size*x\n",
    "y=pix_size*y"
   ]
  },
  {
   "cell_type": "code",
   "execution_count": 7,
   "metadata": {},
   "outputs": [
    {
     "data": {
      "text/html": [
       "<div>\n",
       "<style scoped>\n",
       "    .dataframe tbody tr th:only-of-type {\n",
       "        vertical-align: middle;\n",
       "    }\n",
       "\n",
       "    .dataframe tbody tr th {\n",
       "        vertical-align: top;\n",
       "    }\n",
       "\n",
       "    .dataframe thead th {\n",
       "        text-align: right;\n",
       "    }\n",
       "</style>\n",
       "<table border=\"1\" class=\"dataframe\">\n",
       "  <thead>\n",
       "    <tr style=\"text-align: right;\">\n",
       "      <th></th>\n",
       "      <th>id</th>\n",
       "      <th>frame</th>\n",
       "      <th>x [nm]</th>\n",
       "      <th>y [nm]</th>\n",
       "      <th>intensity [photon]</th>\n",
       "      <th>bkgstd [photon]</th>\n",
       "    </tr>\n",
       "  </thead>\n",
       "  <tbody>\n",
       "    <tr>\n",
       "      <th>0</th>\n",
       "      <td>1</td>\n",
       "      <td>1</td>\n",
       "      <td>3390.898193</td>\n",
       "      <td>13770.794922</td>\n",
       "      <td>168.836349</td>\n",
       "      <td>74.666618</td>\n",
       "    </tr>\n",
       "    <tr>\n",
       "      <th>1</th>\n",
       "      <td>2</td>\n",
       "      <td>1</td>\n",
       "      <td>10991.005859</td>\n",
       "      <td>4056.327881</td>\n",
       "      <td>1902.913452</td>\n",
       "      <td>86.681908</td>\n",
       "    </tr>\n",
       "    <tr>\n",
       "      <th>2</th>\n",
       "      <td>3</td>\n",
       "      <td>1</td>\n",
       "      <td>12574.809570</td>\n",
       "      <td>905.750061</td>\n",
       "      <td>1844.025513</td>\n",
       "      <td>76.873283</td>\n",
       "    </tr>\n",
       "    <tr>\n",
       "      <th>3</th>\n",
       "      <td>4</td>\n",
       "      <td>1</td>\n",
       "      <td>13127.662109</td>\n",
       "      <td>23042.378906</td>\n",
       "      <td>2907.634277</td>\n",
       "      <td>83.754478</td>\n",
       "    </tr>\n",
       "    <tr>\n",
       "      <th>4</th>\n",
       "      <td>5</td>\n",
       "      <td>1</td>\n",
       "      <td>14986.806641</td>\n",
       "      <td>3393.033691</td>\n",
       "      <td>595.964233</td>\n",
       "      <td>82.834793</td>\n",
       "    </tr>\n",
       "  </tbody>\n",
       "</table>\n",
       "</div>"
      ],
      "text/plain": [
       "   id  frame        x [nm]        y [nm]  intensity [photon]  bkgstd [photon]\n",
       "0   1      1   3390.898193  13770.794922          168.836349        74.666618\n",
       "1   2      1  10991.005859   4056.327881         1902.913452        86.681908\n",
       "2   3      1  12574.809570    905.750061         1844.025513        76.873283\n",
       "3   4      1  13127.662109  23042.378906         2907.634277        83.754478\n",
       "4   5      1  14986.806641   3393.033691          595.964233        82.834793"
      ]
     },
     "execution_count": 7,
     "metadata": {},
     "output_type": "execute_result"
    }
   ],
   "source": [
    "# Finally, I create a ThunderSTORM friendly dataframe with localisations and ids\n",
    "d = {'id':id,'frame':frame, 'x [nm]': x, 'y [nm]': y, 'intensity [photon]': Iresult,'bkgstd [photon]': bgresult}\n",
    "df_ThunderSTORM = pd.DataFrame(data=d)\n",
    "df_ThunderSTORM.head()"
   ]
  },
  {
   "cell_type": "code",
   "execution_count": 8,
   "metadata": {},
   "outputs": [],
   "source": [
    "# I save the dataframe as a csv-file for ThunderSTORM\n",
    "df_ThunderSTORM.to_csv('df_ThunderSTORM.csv', index=False)"
   ]
  }
 ],
 "metadata": {
  "kernelspec": {
   "display_name": "Python 3",
   "language": "python",
   "name": "python3"
  },
  "language_info": {
   "codemirror_mode": {
    "name": "ipython",
    "version": 3
   },
   "file_extension": ".py",
   "mimetype": "text/x-python",
   "name": "python",
   "nbconvert_exporter": "python",
   "pygments_lexer": "ipython3",
   "version": "3.8.5"
  }
 },
 "nbformat": 4,
 "nbformat_minor": 4
}
