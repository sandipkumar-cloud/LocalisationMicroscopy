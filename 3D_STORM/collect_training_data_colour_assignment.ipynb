{
 "cells": [
  {
   "cell_type": "markdown",
   "metadata": {},
   "source": [
    "# Training data\n",
    "## 3D-STORM experiments with two cameras are performed on control samples where the labels are of only one colour. The procedure is repeated to get positive controls for AF647 and CF660C dyes. Data is filtered and cleaned as all other 3D-STORM data. The data from the two colour experiments are appended with their labels to create the training data."
   ]
  },
  {
   "cell_type": "code",
   "execution_count": 1,
   "metadata": {},
   "outputs": [],
   "source": [
    "# Import the libraries\n",
    "import pandas as pd\n",
    "import numpy as np\n",
    "import matplotlib.pyplot as plt\n",
    "%matplotlib inline\n",
    "from mpl_toolkits import mplot3d"
   ]
  },
  {
   "cell_type": "code",
   "execution_count": 2,
   "metadata": {},
   "outputs": [
    {
     "name": "stdout",
     "output_type": "stream",
     "text": [
      "(13795, 8)\n"
     ]
    },
    {
     "data": {
      "text/html": [
       "<div>\n",
       "<style scoped>\n",
       "    .dataframe tbody tr th:only-of-type {\n",
       "        vertical-align: middle;\n",
       "    }\n",
       "\n",
       "    .dataframe tbody tr th {\n",
       "        vertical-align: top;\n",
       "    }\n",
       "\n",
       "    .dataframe thead th {\n",
       "        text-align: right;\n",
       "    }\n",
       "</style>\n",
       "<table border=\"1\" class=\"dataframe\">\n",
       "  <thead>\n",
       "    <tr style=\"text-align: right;\">\n",
       "      <th></th>\n",
       "      <th>id</th>\n",
       "      <th>frame</th>\n",
       "      <th>x</th>\n",
       "      <th>y</th>\n",
       "      <th>z</th>\n",
       "      <th>intensity_cam1</th>\n",
       "      <th>intensity_cam2</th>\n",
       "      <th>cell_cluster</th>\n",
       "    </tr>\n",
       "  </thead>\n",
       "  <tbody>\n",
       "    <tr>\n",
       "      <th>0</th>\n",
       "      <td>49322</td>\n",
       "      <td>4112.0</td>\n",
       "      <td>10693.924395</td>\n",
       "      <td>5805.306917</td>\n",
       "      <td>140.761505</td>\n",
       "      <td>7038.1500</td>\n",
       "      <td>1093.590454</td>\n",
       "      <td>0</td>\n",
       "    </tr>\n",
       "    <tr>\n",
       "      <th>1</th>\n",
       "      <td>62185</td>\n",
       "      <td>16188.0</td>\n",
       "      <td>11682.145613</td>\n",
       "      <td>3405.061996</td>\n",
       "      <td>168.114040</td>\n",
       "      <td>3026.4148</td>\n",
       "      <td>406.817261</td>\n",
       "      <td>2</td>\n",
       "    </tr>\n",
       "  </tbody>\n",
       "</table>\n",
       "</div>"
      ],
      "text/plain": [
       "      id    frame             x            y           z  intensity_cam1  \\\n",
       "0  49322   4112.0  10693.924395  5805.306917  140.761505       7038.1500   \n",
       "1  62185  16188.0  11682.145613  3405.061996  168.114040       3026.4148   \n",
       "\n",
       "   intensity_cam2  cell_cluster  \n",
       "0     1093.590454             0  \n",
       "1      406.817261             2  "
      ]
     },
     "execution_count": 2,
     "metadata": {},
     "output_type": "execute_result"
    }
   ],
   "source": [
    "# read AF647 data\n",
    "df_AF647=pd.read_csv('df_sample.csv')\n",
    "print(df_AF647.shape)\n",
    "df_AF647.head(2)"
   ]
  },
  {
   "cell_type": "code",
   "execution_count": 3,
   "metadata": {},
   "outputs": [
    {
     "name": "stdout",
     "output_type": "stream",
     "text": [
      "(13795, 9)\n"
     ]
    },
    {
     "data": {
      "text/html": [
       "<div>\n",
       "<style scoped>\n",
       "    .dataframe tbody tr th:only-of-type {\n",
       "        vertical-align: middle;\n",
       "    }\n",
       "\n",
       "    .dataframe tbody tr th {\n",
       "        vertical-align: top;\n",
       "    }\n",
       "\n",
       "    .dataframe thead th {\n",
       "        text-align: right;\n",
       "    }\n",
       "</style>\n",
       "<table border=\"1\" class=\"dataframe\">\n",
       "  <thead>\n",
       "    <tr style=\"text-align: right;\">\n",
       "      <th></th>\n",
       "      <th>id</th>\n",
       "      <th>frame</th>\n",
       "      <th>x</th>\n",
       "      <th>y</th>\n",
       "      <th>z</th>\n",
       "      <th>intensity_cam1</th>\n",
       "      <th>intensity_cam2</th>\n",
       "      <th>cell_cluster</th>\n",
       "      <th>idx</th>\n",
       "    </tr>\n",
       "  </thead>\n",
       "  <tbody>\n",
       "    <tr>\n",
       "      <th>0</th>\n",
       "      <td>49322</td>\n",
       "      <td>4112.0</td>\n",
       "      <td>10693.924395</td>\n",
       "      <td>5805.306917</td>\n",
       "      <td>140.761505</td>\n",
       "      <td>7038.1500</td>\n",
       "      <td>1093.590454</td>\n",
       "      <td>0</td>\n",
       "      <td>0</td>\n",
       "    </tr>\n",
       "    <tr>\n",
       "      <th>1</th>\n",
       "      <td>62185</td>\n",
       "      <td>16188.0</td>\n",
       "      <td>11682.145613</td>\n",
       "      <td>3405.061996</td>\n",
       "      <td>168.114040</td>\n",
       "      <td>3026.4148</td>\n",
       "      <td>406.817261</td>\n",
       "      <td>2</td>\n",
       "      <td>0</td>\n",
       "    </tr>\n",
       "  </tbody>\n",
       "</table>\n",
       "</div>"
      ],
      "text/plain": [
       "      id    frame             x            y           z  intensity_cam1  \\\n",
       "0  49322   4112.0  10693.924395  5805.306917  140.761505       7038.1500   \n",
       "1  62185  16188.0  11682.145613  3405.061996  168.114040       3026.4148   \n",
       "\n",
       "   intensity_cam2  cell_cluster  idx  \n",
       "0     1093.590454             0    0  \n",
       "1      406.817261             2    0  "
      ]
     },
     "execution_count": 3,
     "metadata": {},
     "output_type": "execute_result"
    }
   ],
   "source": [
    "df_AF647[\"idx\"]=0\n",
    "print(df_AF647.shape)\n",
    "df_AF647.head(2)"
   ]
  },
  {
   "cell_type": "code",
   "execution_count": 4,
   "metadata": {},
   "outputs": [],
   "source": [
    "df_AF647[\"log_intensity_cam1\"]=np.log(df_AF647['intensity_cam1'])\n",
    "df_AF647[\"log_intensity_cam2\"]=np.log(df_AF647['intensity_cam2'])"
   ]
  },
  {
   "cell_type": "code",
   "execution_count": 5,
   "metadata": {},
   "outputs": [
    {
     "name": "stdout",
     "output_type": "stream",
     "text": [
      "(13795, 11)\n"
     ]
    },
    {
     "data": {
      "text/html": [
       "<div>\n",
       "<style scoped>\n",
       "    .dataframe tbody tr th:only-of-type {\n",
       "        vertical-align: middle;\n",
       "    }\n",
       "\n",
       "    .dataframe tbody tr th {\n",
       "        vertical-align: top;\n",
       "    }\n",
       "\n",
       "    .dataframe thead th {\n",
       "        text-align: right;\n",
       "    }\n",
       "</style>\n",
       "<table border=\"1\" class=\"dataframe\">\n",
       "  <thead>\n",
       "    <tr style=\"text-align: right;\">\n",
       "      <th></th>\n",
       "      <th>id</th>\n",
       "      <th>frame</th>\n",
       "      <th>x</th>\n",
       "      <th>y</th>\n",
       "      <th>z</th>\n",
       "      <th>intensity_cam1</th>\n",
       "      <th>intensity_cam2</th>\n",
       "      <th>cell_cluster</th>\n",
       "      <th>idx</th>\n",
       "      <th>log_intensity_cam1</th>\n",
       "      <th>log_intensity_cam2</th>\n",
       "    </tr>\n",
       "  </thead>\n",
       "  <tbody>\n",
       "    <tr>\n",
       "      <th>0</th>\n",
       "      <td>49322</td>\n",
       "      <td>4112.0</td>\n",
       "      <td>10693.924395</td>\n",
       "      <td>5805.306917</td>\n",
       "      <td>140.761505</td>\n",
       "      <td>7038.1500</td>\n",
       "      <td>1093.590454</td>\n",
       "      <td>0</td>\n",
       "      <td>0</td>\n",
       "      <td>8.859101</td>\n",
       "      <td>6.997222</td>\n",
       "    </tr>\n",
       "    <tr>\n",
       "      <th>1</th>\n",
       "      <td>62185</td>\n",
       "      <td>16188.0</td>\n",
       "      <td>11682.145613</td>\n",
       "      <td>3405.061996</td>\n",
       "      <td>168.114040</td>\n",
       "      <td>3026.4148</td>\n",
       "      <td>406.817261</td>\n",
       "      <td>2</td>\n",
       "      <td>0</td>\n",
       "      <td>8.015134</td>\n",
       "      <td>6.008364</td>\n",
       "    </tr>\n",
       "  </tbody>\n",
       "</table>\n",
       "</div>"
      ],
      "text/plain": [
       "      id    frame             x            y           z  intensity_cam1  \\\n",
       "0  49322   4112.0  10693.924395  5805.306917  140.761505       7038.1500   \n",
       "1  62185  16188.0  11682.145613  3405.061996  168.114040       3026.4148   \n",
       "\n",
       "   intensity_cam2  cell_cluster  idx  log_intensity_cam1  log_intensity_cam2  \n",
       "0     1093.590454             0    0            8.859101            6.997222  \n",
       "1      406.817261             2    0            8.015134            6.008364  "
      ]
     },
     "execution_count": 5,
     "metadata": {},
     "output_type": "execute_result"
    }
   ],
   "source": [
    "print(df_AF647.shape)\n",
    "df_AF647.head(2)"
   ]
  },
  {
   "cell_type": "code",
   "execution_count": 6,
   "metadata": {},
   "outputs": [
    {
     "name": "stdout",
     "output_type": "stream",
     "text": [
      "(13795, 3)\n"
     ]
    },
    {
     "data": {
      "text/html": [
       "<div>\n",
       "<style scoped>\n",
       "    .dataframe tbody tr th:only-of-type {\n",
       "        vertical-align: middle;\n",
       "    }\n",
       "\n",
       "    .dataframe tbody tr th {\n",
       "        vertical-align: top;\n",
       "    }\n",
       "\n",
       "    .dataframe thead th {\n",
       "        text-align: right;\n",
       "    }\n",
       "</style>\n",
       "<table border=\"1\" class=\"dataframe\">\n",
       "  <thead>\n",
       "    <tr style=\"text-align: right;\">\n",
       "      <th></th>\n",
       "      <th>log_intensity_cam1</th>\n",
       "      <th>log_intensity_cam2</th>\n",
       "      <th>idx</th>\n",
       "    </tr>\n",
       "  </thead>\n",
       "  <tbody>\n",
       "    <tr>\n",
       "      <th>0</th>\n",
       "      <td>8.859101</td>\n",
       "      <td>6.997222</td>\n",
       "      <td>0</td>\n",
       "    </tr>\n",
       "    <tr>\n",
       "      <th>1</th>\n",
       "      <td>8.015134</td>\n",
       "      <td>6.008364</td>\n",
       "      <td>0</td>\n",
       "    </tr>\n",
       "  </tbody>\n",
       "</table>\n",
       "</div>"
      ],
      "text/plain": [
       "   log_intensity_cam1  log_intensity_cam2  idx\n",
       "0            8.859101            6.997222    0\n",
       "1            8.015134            6.008364    0"
      ]
     },
     "execution_count": 6,
     "metadata": {},
     "output_type": "execute_result"
    }
   ],
   "source": [
    "# For better classification the distribution should be close to Gaussian.\n",
    "# Log of intensity is used for better classification (the log of intensity is also far from Gaussian)\n",
    "df_AF647=df_AF647[['log_intensity_cam1', 'log_intensity_cam2', 'idx']]\n",
    "print(df_AF647.shape)\n",
    "df_AF647.head(2)"
   ]
  },
  {
   "cell_type": "code",
   "execution_count": 7,
   "metadata": {},
   "outputs": [
    {
     "name": "stdout",
     "output_type": "stream",
     "text": [
      "(13795, 3)\n"
     ]
    },
    {
     "data": {
      "text/html": [
       "<div>\n",
       "<style scoped>\n",
       "    .dataframe tbody tr th:only-of-type {\n",
       "        vertical-align: middle;\n",
       "    }\n",
       "\n",
       "    .dataframe tbody tr th {\n",
       "        vertical-align: top;\n",
       "    }\n",
       "\n",
       "    .dataframe thead th {\n",
       "        text-align: right;\n",
       "    }\n",
       "</style>\n",
       "<table border=\"1\" class=\"dataframe\">\n",
       "  <thead>\n",
       "    <tr style=\"text-align: right;\">\n",
       "      <th></th>\n",
       "      <th>log_intensity_cam1</th>\n",
       "      <th>log_intensity_cam2</th>\n",
       "      <th>idx</th>\n",
       "    </tr>\n",
       "  </thead>\n",
       "  <tbody>\n",
       "    <tr>\n",
       "      <th>0</th>\n",
       "      <td>7.969882</td>\n",
       "      <td>6.153852</td>\n",
       "      <td>1</td>\n",
       "    </tr>\n",
       "    <tr>\n",
       "      <th>1</th>\n",
       "      <td>7.804986</td>\n",
       "      <td>6.118971</td>\n",
       "      <td>1</td>\n",
       "    </tr>\n",
       "  </tbody>\n",
       "</table>\n",
       "</div>"
      ],
      "text/plain": [
       "   log_intensity_cam1  log_intensity_cam2  idx\n",
       "0            7.969882            6.153852    1\n",
       "1            7.804986            6.118971    1"
      ]
     },
     "execution_count": 7,
     "metadata": {},
     "output_type": "execute_result"
    }
   ],
   "source": [
    "# read CF660C data\n",
    "df_CF660C=pd.read_csv('df_all.csv')\n",
    "df_CF660C[\"idx\"]=1\n",
    "df_CF660C[\"log_intensity_cam1\"]=np.log(df_CF660C['intensity_cam1'])\n",
    "df_CF660C[\"log_intensity_cam2\"]=np.log(df_CF660C['intensity_cam2'])\n",
    "df_CF660C=df_CF660C[['log_intensity_cam1', 'log_intensity_cam2', 'idx']]\n",
    "print(df_CF660C.shape)\n",
    "df_CF660C.head(2)"
   ]
  },
  {
   "cell_type": "code",
   "execution_count": 8,
   "metadata": {},
   "outputs": [
    {
     "name": "stdout",
     "output_type": "stream",
     "text": [
      "(27590, 3)\n"
     ]
    },
    {
     "data": {
      "text/html": [
       "<div>\n",
       "<style scoped>\n",
       "    .dataframe tbody tr th:only-of-type {\n",
       "        vertical-align: middle;\n",
       "    }\n",
       "\n",
       "    .dataframe tbody tr th {\n",
       "        vertical-align: top;\n",
       "    }\n",
       "\n",
       "    .dataframe thead th {\n",
       "        text-align: right;\n",
       "    }\n",
       "</style>\n",
       "<table border=\"1\" class=\"dataframe\">\n",
       "  <thead>\n",
       "    <tr style=\"text-align: right;\">\n",
       "      <th></th>\n",
       "      <th>log_intensity_cam1</th>\n",
       "      <th>log_intensity_cam2</th>\n",
       "      <th>idx</th>\n",
       "    </tr>\n",
       "  </thead>\n",
       "  <tbody>\n",
       "    <tr>\n",
       "      <th>0</th>\n",
       "      <td>8.859101</td>\n",
       "      <td>6.997222</td>\n",
       "      <td>0</td>\n",
       "    </tr>\n",
       "    <tr>\n",
       "      <th>1</th>\n",
       "      <td>8.015134</td>\n",
       "      <td>6.008364</td>\n",
       "      <td>0</td>\n",
       "    </tr>\n",
       "  </tbody>\n",
       "</table>\n",
       "</div>"
      ],
      "text/plain": [
       "   log_intensity_cam1  log_intensity_cam2  idx\n",
       "0            8.859101            6.997222    0\n",
       "1            8.015134            6.008364    0"
      ]
     },
     "execution_count": 8,
     "metadata": {},
     "output_type": "execute_result"
    }
   ],
   "source": [
    "df_train=df_AF647.append(df_CF660C)\n",
    "print(df_train.shape)\n",
    "df_train.head(2)"
   ]
  },
  {
   "cell_type": "code",
   "execution_count": 9,
   "metadata": {},
   "outputs": [],
   "source": [
    "# The training data with equal number of AF647 and CF660C rows is saved as csv.\n",
    "df_train.to_csv('AF647_CF660C_training_data.csv', index=False)"
   ]
  }
 ],
 "metadata": {
  "kernelspec": {
   "display_name": "Python 3",
   "language": "python",
   "name": "python3"
  },
  "language_info": {
   "codemirror_mode": {
    "name": "ipython",
    "version": 3
   },
   "file_extension": ".py",
   "mimetype": "text/x-python",
   "name": "python",
   "nbconvert_exporter": "python",
   "pygments_lexer": "ipython3",
   "version": "3.8.5"
  }
 },
 "nbformat": 4,
 "nbformat_minor": 4
}
