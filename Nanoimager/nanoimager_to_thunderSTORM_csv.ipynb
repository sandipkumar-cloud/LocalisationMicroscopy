{
 "cells": [
  {
   "cell_type": "markdown",
   "metadata": {},
   "source": [
    "# Select columns from Nanoimager csv and write a csv for ThunderSTORM"
   ]
  },
  {
   "cell_type": "markdown",
   "metadata": {},
   "source": [
    "**ONI Nanoimager is a commercial widefield microscope which is used for localisation microscopy. The Nanoimager software has lots of cool features but you may still want to export the data for other analysis software. For example, I use ThunderSTORM (a very powerful localisation microscopy data analysis plugin for imageJ) to correct for drift using fiducials and to merge localisations of fluorophores which are on for multiple frames. To do so, I need the data exported from the Nanoimager software as a csv file in a format that can be read by ThunderSTORM. Unfortunatley, the current version of Nanoimager csv file cannot be directly read by ThunderSTORM. Here, in this notebook, I show how I create a ThunderSTORM friendly csv from the Nanoimager csv. In this notebook you will see how pandas can be used to easily manipulate tabular data and save it to a csv file.**"
   ]
  },
  {
   "cell_type": "markdown",
   "metadata": {},
   "source": [
    "## Import data"
   ]
  },
  {
   "cell_type": "code",
   "execution_count": 1,
   "metadata": {},
   "outputs": [],
   "source": [
    "# Here I import the python packages.\n",
    "import pandas as pd\n",
    "import numpy as np"
   ]
  },
  {
   "cell_type": "code",
   "execution_count": 2,
   "metadata": {},
   "outputs": [],
   "source": [
    "# Load the localisation file from the nanoimager as a dataframe\n",
    "df = pd.read_csv('Nanoimager_localizations.csv')"
   ]
  },
  {
   "cell_type": "code",
   "execution_count": 3,
   "metadata": {},
   "outputs": [
    {
     "data": {
      "text/html": [
       "<div>\n",
       "<style scoped>\n",
       "    .dataframe tbody tr th:only-of-type {\n",
       "        vertical-align: middle;\n",
       "    }\n",
       "\n",
       "    .dataframe tbody tr th {\n",
       "        vertical-align: top;\n",
       "    }\n",
       "\n",
       "    .dataframe thead th {\n",
       "        text-align: right;\n",
       "    }\n",
       "</style>\n",
       "<table border=\"1\" class=\"dataframe\">\n",
       "  <thead>\n",
       "    <tr style=\"text-align: right;\">\n",
       "      <th></th>\n",
       "      <th>Channel</th>\n",
       "      <th>Frame</th>\n",
       "      <th>X (nm)</th>\n",
       "      <th>Y (nm)</th>\n",
       "      <th>Z (nm)</th>\n",
       "      <th>X precision (nm)</th>\n",
       "      <th>Y precision (nm)</th>\n",
       "      <th>Photons</th>\n",
       "      <th>Background</th>\n",
       "      <th>PSF Sigma X (pix)</th>\n",
       "      <th>PSF Sigma Y (pix)</th>\n",
       "    </tr>\n",
       "  </thead>\n",
       "  <tbody>\n",
       "    <tr>\n",
       "      <th>0</th>\n",
       "      <td>1</td>\n",
       "      <td>18</td>\n",
       "      <td>17393.363281</td>\n",
       "      <td>5341.088867</td>\n",
       "      <td>0.0</td>\n",
       "      <td>12.122814</td>\n",
       "      <td>14.760088</td>\n",
       "      <td>576.440552</td>\n",
       "      <td>45.888653</td>\n",
       "      <td>1.065249</td>\n",
       "      <td>1.301303</td>\n",
       "    </tr>\n",
       "    <tr>\n",
       "      <th>1</th>\n",
       "      <td>1</td>\n",
       "      <td>18</td>\n",
       "      <td>28469.585938</td>\n",
       "      <td>6503.035645</td>\n",
       "      <td>0.0</td>\n",
       "      <td>19.043039</td>\n",
       "      <td>8.590194</td>\n",
       "      <td>2415.484863</td>\n",
       "      <td>45.925720</td>\n",
       "      <td>1.979784</td>\n",
       "      <td>1.528099</td>\n",
       "    </tr>\n",
       "  </tbody>\n",
       "</table>\n",
       "</div>"
      ],
      "text/plain": [
       "   Channel  Frame        X (nm)       Y (nm)  Z (nm)  X precision (nm)  \\\n",
       "0        1     18  17393.363281  5341.088867     0.0         12.122814   \n",
       "1        1     18  28469.585938  6503.035645     0.0         19.043039   \n",
       "\n",
       "   Y precision (nm)      Photons  Background  PSF Sigma X (pix)  \\\n",
       "0         14.760088   576.440552   45.888653           1.065249   \n",
       "1          8.590194  2415.484863   45.925720           1.979784   \n",
       "\n",
       "   PSF Sigma Y (pix)  \n",
       "0           1.301303  \n",
       "1           1.528099  "
      ]
     },
     "execution_count": 3,
     "metadata": {},
     "output_type": "execute_result"
    }
   ],
   "source": [
    "# Here I look at the top two rows of the dataframe.\n",
    "df.head(2)"
   ]
  },
  {
   "cell_type": "code",
   "execution_count": 4,
   "metadata": {},
   "outputs": [
    {
     "name": "stdout",
     "output_type": "stream",
     "text": [
      "<class 'pandas.core.frame.DataFrame'>\n",
      "RangeIndex: 485058 entries, 0 to 485057\n",
      "Data columns (total 11 columns):\n",
      " #   Column             Non-Null Count   Dtype  \n",
      "---  ------             --------------   -----  \n",
      " 0   Channel            485058 non-null  int64  \n",
      " 1   Frame              485058 non-null  int64  \n",
      " 2   X (nm)             485058 non-null  float64\n",
      " 3   Y (nm)             485058 non-null  float64\n",
      " 4   Z (nm)             485058 non-null  float64\n",
      " 5   X precision (nm)   485058 non-null  float64\n",
      " 6   Y precision (nm)   485058 non-null  float64\n",
      " 7   Photons            485058 non-null  float64\n",
      " 8   Background         485058 non-null  float64\n",
      " 9   PSF Sigma X (pix)  485058 non-null  float64\n",
      " 10  PSF Sigma Y (pix)  485058 non-null  float64\n",
      "dtypes: float64(9), int64(2)\n",
      "memory usage: 40.7 MB\n"
     ]
    }
   ],
   "source": [
    "# Here,I look at the column names, their datatypes and the number of rows.\n",
    "df.info()"
   ]
  },
  {
   "cell_type": "markdown",
   "metadata": {},
   "source": [
    "## Format data"
   ]
  },
  {
   "cell_type": "markdown",
   "metadata": {},
   "source": [
    "### Choose the colour channel that you want to analyse"
   ]
  },
  {
   "cell_type": "code",
   "execution_count": 5,
   "metadata": {},
   "outputs": [
    {
     "data": {
      "text/plain": [
       "(485058, 11)"
      ]
     },
     "execution_count": 5,
     "metadata": {},
     "output_type": "execute_result"
    }
   ],
   "source": [
    "# Here I only want channel 1 or the red channel\n",
    "df=df[df.Channel == 1] # filter channel 1, use 0 for the green channel\n",
    "df.shape # In this case we only had channel 1 so no change in number of rows."
   ]
  },
  {
   "cell_type": "markdown",
   "metadata": {},
   "source": [
    "### Create a column that stores the localisation id"
   ]
  },
  {
   "cell_type": "code",
   "execution_count": 6,
   "metadata": {},
   "outputs": [],
   "source": [
    "# Here I create a column named id and insert it to the start of the dataframe\n",
    "id = np.arange(start=1, stop=df.shape[0]+1, step=1)\n",
    "id = pd.Series(id) # convert numpy array to pandas series"
   ]
  },
  {
   "cell_type": "code",
   "execution_count": 7,
   "metadata": {},
   "outputs": [],
   "source": [
    "# insert the column at the start of the dataframe\n",
    "df.insert(0, \"id\", id, True) "
   ]
  },
  {
   "cell_type": "code",
   "execution_count": 8,
   "metadata": {},
   "outputs": [
    {
     "data": {
      "text/plain": [
       "(485058, 12)"
      ]
     },
     "execution_count": 8,
     "metadata": {},
     "output_type": "execute_result"
    }
   ],
   "source": [
    "# check the increase in the number of columns in the dataframe to show successful insertion\n",
    "df.shape"
   ]
  },
  {
   "cell_type": "code",
   "execution_count": 9,
   "metadata": {},
   "outputs": [
    {
     "data": {
      "text/html": [
       "<div>\n",
       "<style scoped>\n",
       "    .dataframe tbody tr th:only-of-type {\n",
       "        vertical-align: middle;\n",
       "    }\n",
       "\n",
       "    .dataframe tbody tr th {\n",
       "        vertical-align: top;\n",
       "    }\n",
       "\n",
       "    .dataframe thead th {\n",
       "        text-align: right;\n",
       "    }\n",
       "</style>\n",
       "<table border=\"1\" class=\"dataframe\">\n",
       "  <thead>\n",
       "    <tr style=\"text-align: right;\">\n",
       "      <th></th>\n",
       "      <th>id</th>\n",
       "      <th>Channel</th>\n",
       "      <th>Frame</th>\n",
       "      <th>X (nm)</th>\n",
       "      <th>Y (nm)</th>\n",
       "      <th>Z (nm)</th>\n",
       "      <th>X precision (nm)</th>\n",
       "      <th>Y precision (nm)</th>\n",
       "      <th>Photons</th>\n",
       "      <th>Background</th>\n",
       "      <th>PSF Sigma X (pix)</th>\n",
       "      <th>PSF Sigma Y (pix)</th>\n",
       "    </tr>\n",
       "  </thead>\n",
       "  <tbody>\n",
       "    <tr>\n",
       "      <th>0</th>\n",
       "      <td>1</td>\n",
       "      <td>1</td>\n",
       "      <td>18</td>\n",
       "      <td>17393.363281</td>\n",
       "      <td>5341.088867</td>\n",
       "      <td>0.0</td>\n",
       "      <td>12.122814</td>\n",
       "      <td>14.760088</td>\n",
       "      <td>576.440552</td>\n",
       "      <td>45.888653</td>\n",
       "      <td>1.065249</td>\n",
       "      <td>1.301303</td>\n",
       "    </tr>\n",
       "    <tr>\n",
       "      <th>1</th>\n",
       "      <td>2</td>\n",
       "      <td>1</td>\n",
       "      <td>18</td>\n",
       "      <td>28469.585938</td>\n",
       "      <td>6503.035645</td>\n",
       "      <td>0.0</td>\n",
       "      <td>19.043039</td>\n",
       "      <td>8.590194</td>\n",
       "      <td>2415.484863</td>\n",
       "      <td>45.925720</td>\n",
       "      <td>1.979784</td>\n",
       "      <td>1.528099</td>\n",
       "    </tr>\n",
       "  </tbody>\n",
       "</table>\n",
       "</div>"
      ],
      "text/plain": [
       "   id  Channel  Frame        X (nm)       Y (nm)  Z (nm)  X precision (nm)  \\\n",
       "0   1        1     18  17393.363281  5341.088867     0.0         12.122814   \n",
       "1   2        1     18  28469.585938  6503.035645     0.0         19.043039   \n",
       "\n",
       "   Y precision (nm)      Photons  Background  PSF Sigma X (pix)  \\\n",
       "0         14.760088   576.440552   45.888653           1.065249   \n",
       "1          8.590194  2415.484863   45.925720           1.979784   \n",
       "\n",
       "   PSF Sigma Y (pix)  \n",
       "0           1.301303  \n",
       "1           1.528099  "
      ]
     },
     "execution_count": 9,
     "metadata": {},
     "output_type": "execute_result"
    }
   ],
   "source": [
    "# check the position of the insertion\n",
    "df.head(2) # id is the first column"
   ]
  },
  {
   "cell_type": "markdown",
   "metadata": {},
   "source": [
    "### For using the ThunderSTORM imageJ plugin for further analysis, I do not need all  the columns in the Nanoimager csv. Here, I select the required columns: id, Frame, X(nm), Y(nm), Photons and Background"
   ]
  },
  {
   "cell_type": "markdown",
   "metadata": {},
   "source": [
    "#### Method 1"
   ]
  },
  {
   "cell_type": "code",
   "execution_count": 10,
   "metadata": {},
   "outputs": [
    {
     "data": {
      "text/html": [
       "<div>\n",
       "<style scoped>\n",
       "    .dataframe tbody tr th:only-of-type {\n",
       "        vertical-align: middle;\n",
       "    }\n",
       "\n",
       "    .dataframe tbody tr th {\n",
       "        vertical-align: top;\n",
       "    }\n",
       "\n",
       "    .dataframe thead th {\n",
       "        text-align: right;\n",
       "    }\n",
       "</style>\n",
       "<table border=\"1\" class=\"dataframe\">\n",
       "  <thead>\n",
       "    <tr style=\"text-align: right;\">\n",
       "      <th></th>\n",
       "      <th>id</th>\n",
       "      <th>Frame</th>\n",
       "      <th>X (nm)</th>\n",
       "      <th>Y (nm)</th>\n",
       "      <th>Photons</th>\n",
       "      <th>Background</th>\n",
       "    </tr>\n",
       "  </thead>\n",
       "  <tbody>\n",
       "    <tr>\n",
       "      <th>0</th>\n",
       "      <td>1</td>\n",
       "      <td>18</td>\n",
       "      <td>17393.363281</td>\n",
       "      <td>5341.088867</td>\n",
       "      <td>576.440552</td>\n",
       "      <td>45.888653</td>\n",
       "    </tr>\n",
       "    <tr>\n",
       "      <th>1</th>\n",
       "      <td>2</td>\n",
       "      <td>18</td>\n",
       "      <td>28469.585938</td>\n",
       "      <td>6503.035645</td>\n",
       "      <td>2415.484863</td>\n",
       "      <td>45.925720</td>\n",
       "    </tr>\n",
       "  </tbody>\n",
       "</table>\n",
       "</div>"
      ],
      "text/plain": [
       "   id  Frame        X (nm)       Y (nm)      Photons  Background\n",
       "0   1     18  17393.363281  5341.088867   576.440552   45.888653\n",
       "1   2     18  28469.585938  6503.035645  2415.484863   45.925720"
      ]
     },
     "execution_count": 10,
     "metadata": {},
     "output_type": "execute_result"
    }
   ],
   "source": [
    "# You can use the column numbers to make the selection\n",
    "columns_selected=[1,3,4,5,9,10]\n",
    "columns_selected=np.array(columns_selected)-1\n",
    "df_selected=df[df.columns[columns_selected]]\n",
    "\n",
    "\n",
    "df_selected.head(2)#check if the correct columns were selected"
   ]
  },
  {
   "cell_type": "markdown",
   "metadata": {},
   "source": [
    "#### Method 2"
   ]
  },
  {
   "cell_type": "code",
   "execution_count": 11,
   "metadata": {},
   "outputs": [
    {
     "data": {
      "text/html": [
       "<div>\n",
       "<style scoped>\n",
       "    .dataframe tbody tr th:only-of-type {\n",
       "        vertical-align: middle;\n",
       "    }\n",
       "\n",
       "    .dataframe tbody tr th {\n",
       "        vertical-align: top;\n",
       "    }\n",
       "\n",
       "    .dataframe thead th {\n",
       "        text-align: right;\n",
       "    }\n",
       "</style>\n",
       "<table border=\"1\" class=\"dataframe\">\n",
       "  <thead>\n",
       "    <tr style=\"text-align: right;\">\n",
       "      <th></th>\n",
       "      <th>id</th>\n",
       "      <th>Frame</th>\n",
       "      <th>X (nm)</th>\n",
       "      <th>Y (nm)</th>\n",
       "      <th>Photons</th>\n",
       "      <th>Background</th>\n",
       "    </tr>\n",
       "  </thead>\n",
       "  <tbody>\n",
       "    <tr>\n",
       "      <th>0</th>\n",
       "      <td>1</td>\n",
       "      <td>18</td>\n",
       "      <td>17393.363281</td>\n",
       "      <td>5341.088867</td>\n",
       "      <td>576.440552</td>\n",
       "      <td>45.888653</td>\n",
       "    </tr>\n",
       "    <tr>\n",
       "      <th>1</th>\n",
       "      <td>2</td>\n",
       "      <td>18</td>\n",
       "      <td>28469.585938</td>\n",
       "      <td>6503.035645</td>\n",
       "      <td>2415.484863</td>\n",
       "      <td>45.925720</td>\n",
       "    </tr>\n",
       "  </tbody>\n",
       "</table>\n",
       "</div>"
      ],
      "text/plain": [
       "   id  Frame        X (nm)       Y (nm)      Photons  Background\n",
       "0   1     18  17393.363281  5341.088867   576.440552   45.888653\n",
       "1   2     18  28469.585938  6503.035645  2415.484863   45.925720"
      ]
     },
     "execution_count": 11,
     "metadata": {},
     "output_type": "execute_result"
    }
   ],
   "source": [
    "# Or you can use the column names directly\n",
    "df_selected=df[['id', 'Frame', 'X (nm)', 'Y (nm)', 'Photons', 'Background']]\n",
    "#df_selected=df[[\"id\", \"Frame\", \"X (nm)\", \"Y (nm)\", \"Photons\", \"Background\"]]\n",
    "df_selected.head(2)#check if the correct columns were selected"
   ]
  },
  {
   "cell_type": "markdown",
   "metadata": {},
   "source": [
    "### Here I change the column names to a ThunderSTORM friendly format."
   ]
  },
  {
   "cell_type": "code",
   "execution_count": 12,
   "metadata": {},
   "outputs": [
    {
     "data": {
      "text/html": [
       "<div>\n",
       "<style scoped>\n",
       "    .dataframe tbody tr th:only-of-type {\n",
       "        vertical-align: middle;\n",
       "    }\n",
       "\n",
       "    .dataframe tbody tr th {\n",
       "        vertical-align: top;\n",
       "    }\n",
       "\n",
       "    .dataframe thead th {\n",
       "        text-align: right;\n",
       "    }\n",
       "</style>\n",
       "<table border=\"1\" class=\"dataframe\">\n",
       "  <thead>\n",
       "    <tr style=\"text-align: right;\">\n",
       "      <th></th>\n",
       "      <th>id</th>\n",
       "      <th>frame</th>\n",
       "      <th>x [nm]</th>\n",
       "      <th>y [nm]</th>\n",
       "      <th>intensity [photon]</th>\n",
       "      <th>bkgstd [photon]</th>\n",
       "    </tr>\n",
       "  </thead>\n",
       "  <tbody>\n",
       "    <tr>\n",
       "      <th>0</th>\n",
       "      <td>1</td>\n",
       "      <td>18</td>\n",
       "      <td>17393.363281</td>\n",
       "      <td>5341.088867</td>\n",
       "      <td>576.440552</td>\n",
       "      <td>45.888653</td>\n",
       "    </tr>\n",
       "    <tr>\n",
       "      <th>1</th>\n",
       "      <td>2</td>\n",
       "      <td>18</td>\n",
       "      <td>28469.585938</td>\n",
       "      <td>6503.035645</td>\n",
       "      <td>2415.484863</td>\n",
       "      <td>45.925720</td>\n",
       "    </tr>\n",
       "  </tbody>\n",
       "</table>\n",
       "</div>"
      ],
      "text/plain": [
       "   id  frame        x [nm]       y [nm]  intensity [photon]  bkgstd [photon]\n",
       "0   1     18  17393.363281  5341.088867          576.440552        45.888653\n",
       "1   2     18  28469.585938  6503.035645         2415.484863        45.925720"
      ]
     },
     "execution_count": 12,
     "metadata": {},
     "output_type": "execute_result"
    }
   ],
   "source": [
    "df_selected.columns = ['id', 'frame','x [nm]','y [nm]','intensity [photon]','bkgstd [photon]']\n",
    "df_selected.head(2) # Check that column names have been changed"
   ]
  },
  {
   "cell_type": "markdown",
   "metadata": {},
   "source": [
    "## Export data to ThunderSTORM csv"
   ]
  },
  {
   "cell_type": "code",
   "execution_count": 13,
   "metadata": {},
   "outputs": [],
   "source": [
    "# Write the localisation file csv for ThunderSTORM\n",
    "df_selected.to_csv('ThunderSTORM_localizations.csv')"
   ]
  }
 ],
 "metadata": {
  "kernelspec": {
   "display_name": "Python 3",
   "language": "python",
   "name": "python3"
  },
  "language_info": {
   "codemirror_mode": {
    "name": "ipython",
    "version": 3
   },
   "file_extension": ".py",
   "mimetype": "text/x-python",
   "name": "python",
   "nbconvert_exporter": "python",
   "pygments_lexer": "ipython3",
   "version": "3.8.5"
  }
 },
 "nbformat": 4,
 "nbformat_minor": 4
}
