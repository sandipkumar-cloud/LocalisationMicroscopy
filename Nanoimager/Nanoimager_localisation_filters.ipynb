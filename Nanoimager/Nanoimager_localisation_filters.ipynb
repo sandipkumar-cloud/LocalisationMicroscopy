{
 "cells": [
  {
   "cell_type": "markdown",
   "metadata": {},
   "source": [
    "# Apply filters to Nanoimager csv and write a filtered csv"
   ]
  },
  {
   "cell_type": "markdown",
   "metadata": {},
   "source": [
    "**ONI Nanoimager is a commercial widefield microscope which is used for localisation microscopy. The Nanoimager software has GUI to filter data which works great. Although, it is difficult to document the filter settings. Here I show how I use python pandas to filter the data and export it as a csv.**"
   ]
  },
  {
   "cell_type": "markdown",
   "metadata": {},
   "source": [
    "## Load and clean data"
   ]
  },
  {
   "cell_type": "markdown",
   "metadata": {},
   "source": [
    "### Load data"
   ]
  },
  {
   "cell_type": "code",
   "execution_count": 1,
   "metadata": {},
   "outputs": [],
   "source": [
    "# Here I import the python packages.\n",
    "import pandas as pd\n",
    "import numpy as np"
   ]
  },
  {
   "cell_type": "code",
   "execution_count": 2,
   "metadata": {},
   "outputs": [],
   "source": [
    "# Load the localisation file from the nanoimager as a dataframe\n",
    "df = pd.read_csv('Nanoimager_localizations.csv')"
   ]
  },
  {
   "cell_type": "code",
   "execution_count": 3,
   "metadata": {},
   "outputs": [
    {
     "data": {
      "text/html": [
       "<div>\n",
       "<style scoped>\n",
       "    .dataframe tbody tr th:only-of-type {\n",
       "        vertical-align: middle;\n",
       "    }\n",
       "\n",
       "    .dataframe tbody tr th {\n",
       "        vertical-align: top;\n",
       "    }\n",
       "\n",
       "    .dataframe thead th {\n",
       "        text-align: right;\n",
       "    }\n",
       "</style>\n",
       "<table border=\"1\" class=\"dataframe\">\n",
       "  <thead>\n",
       "    <tr style=\"text-align: right;\">\n",
       "      <th></th>\n",
       "      <th>Channel</th>\n",
       "      <th>Frame</th>\n",
       "      <th>X (nm)</th>\n",
       "      <th>Y (nm)</th>\n",
       "      <th>Z (nm)</th>\n",
       "      <th>X precision (nm)</th>\n",
       "      <th>Y precision (nm)</th>\n",
       "      <th>Photons</th>\n",
       "      <th>Background</th>\n",
       "      <th>PSF Sigma X (pix)</th>\n",
       "      <th>PSF Sigma Y (pix)</th>\n",
       "    </tr>\n",
       "  </thead>\n",
       "  <tbody>\n",
       "    <tr>\n",
       "      <th>0</th>\n",
       "      <td>1</td>\n",
       "      <td>18</td>\n",
       "      <td>17393.363281</td>\n",
       "      <td>5341.088867</td>\n",
       "      <td>0.0</td>\n",
       "      <td>12.122814</td>\n",
       "      <td>14.760088</td>\n",
       "      <td>576.440552</td>\n",
       "      <td>45.888653</td>\n",
       "      <td>1.065249</td>\n",
       "      <td>1.301303</td>\n",
       "    </tr>\n",
       "    <tr>\n",
       "      <th>1</th>\n",
       "      <td>1</td>\n",
       "      <td>18</td>\n",
       "      <td>28469.585938</td>\n",
       "      <td>6503.035645</td>\n",
       "      <td>0.0</td>\n",
       "      <td>19.043039</td>\n",
       "      <td>8.590194</td>\n",
       "      <td>2415.484863</td>\n",
       "      <td>45.925720</td>\n",
       "      <td>1.979784</td>\n",
       "      <td>1.528099</td>\n",
       "    </tr>\n",
       "  </tbody>\n",
       "</table>\n",
       "</div>"
      ],
      "text/plain": [
       "   Channel  Frame        X (nm)       Y (nm)  Z (nm)  X precision (nm)  \\\n",
       "0        1     18  17393.363281  5341.088867     0.0         12.122814   \n",
       "1        1     18  28469.585938  6503.035645     0.0         19.043039   \n",
       "\n",
       "   Y precision (nm)      Photons  Background  PSF Sigma X (pix)  \\\n",
       "0         14.760088   576.440552   45.888653           1.065249   \n",
       "1          8.590194  2415.484863   45.925720           1.979784   \n",
       "\n",
       "   PSF Sigma Y (pix)  \n",
       "0           1.301303  \n",
       "1           1.528099  "
      ]
     },
     "execution_count": 3,
     "metadata": {},
     "output_type": "execute_result"
    }
   ],
   "source": [
    "# Here I look at the top two rows of the dataframe.\n",
    "df.head(2)"
   ]
  },
  {
   "cell_type": "code",
   "execution_count": 4,
   "metadata": {},
   "outputs": [
    {
     "name": "stdout",
     "output_type": "stream",
     "text": [
      "<class 'pandas.core.frame.DataFrame'>\n",
      "RangeIndex: 485058 entries, 0 to 485057\n",
      "Data columns (total 11 columns):\n",
      " #   Column             Non-Null Count   Dtype  \n",
      "---  ------             --------------   -----  \n",
      " 0   Channel            485058 non-null  int64  \n",
      " 1   Frame              485058 non-null  int64  \n",
      " 2   X (nm)             485058 non-null  float64\n",
      " 3   Y (nm)             485058 non-null  float64\n",
      " 4   Z (nm)             485058 non-null  float64\n",
      " 5   X precision (nm)   485058 non-null  float64\n",
      " 6   Y precision (nm)   485058 non-null  float64\n",
      " 7   Photons            485058 non-null  float64\n",
      " 8   Background         485058 non-null  float64\n",
      " 9   PSF Sigma X (pix)  485058 non-null  float64\n",
      " 10  PSF Sigma Y (pix)  485058 non-null  float64\n",
      "dtypes: float64(9), int64(2)\n",
      "memory usage: 40.7 MB\n"
     ]
    }
   ],
   "source": [
    "# Here,I look at the column names, their datatypes and the number of rows.\n",
    "df.info()"
   ]
  },
  {
   "cell_type": "markdown",
   "metadata": {},
   "source": [
    "### Clean data"
   ]
  },
  {
   "cell_type": "markdown",
   "metadata": {},
   "source": [
    "Choose the colour channel (green 0 or red 1)"
   ]
  },
  {
   "cell_type": "code",
   "execution_count": 5,
   "metadata": {},
   "outputs": [
    {
     "data": {
      "text/plain": [
       "(485058, 11)"
      ]
     },
     "execution_count": 5,
     "metadata": {},
     "output_type": "execute_result"
    }
   ],
   "source": [
    "# Here I only want channel 1 or the red channel\n",
    "df_selected=df[df.Channel == 1] # filter channel 1, use 0 for the green channel\n",
    "df_selected.shape # In this case we only had channel 1 so no change in number of rows."
   ]
  },
  {
   "cell_type": "markdown",
   "metadata": {},
   "source": [
    "Drop useless columns"
   ]
  },
  {
   "cell_type": "code",
   "execution_count": 6,
   "metadata": {},
   "outputs": [
    {
     "data": {
      "text/html": [
       "<div>\n",
       "<style scoped>\n",
       "    .dataframe tbody tr th:only-of-type {\n",
       "        vertical-align: middle;\n",
       "    }\n",
       "\n",
       "    .dataframe tbody tr th {\n",
       "        vertical-align: top;\n",
       "    }\n",
       "\n",
       "    .dataframe thead th {\n",
       "        text-align: right;\n",
       "    }\n",
       "</style>\n",
       "<table border=\"1\" class=\"dataframe\">\n",
       "  <thead>\n",
       "    <tr style=\"text-align: right;\">\n",
       "      <th></th>\n",
       "      <th>Frame</th>\n",
       "      <th>X (nm)</th>\n",
       "      <th>Y (nm)</th>\n",
       "      <th>X precision (nm)</th>\n",
       "      <th>Y precision (nm)</th>\n",
       "      <th>Photons</th>\n",
       "      <th>Background</th>\n",
       "      <th>PSF Sigma X (pix)</th>\n",
       "      <th>PSF Sigma Y (pix)</th>\n",
       "    </tr>\n",
       "  </thead>\n",
       "  <tbody>\n",
       "    <tr>\n",
       "      <th>0</th>\n",
       "      <td>18</td>\n",
       "      <td>17393.363281</td>\n",
       "      <td>5341.088867</td>\n",
       "      <td>12.122814</td>\n",
       "      <td>14.760088</td>\n",
       "      <td>576.440552</td>\n",
       "      <td>45.888653</td>\n",
       "      <td>1.065249</td>\n",
       "      <td>1.301303</td>\n",
       "    </tr>\n",
       "    <tr>\n",
       "      <th>1</th>\n",
       "      <td>18</td>\n",
       "      <td>28469.585938</td>\n",
       "      <td>6503.035645</td>\n",
       "      <td>19.043039</td>\n",
       "      <td>8.590194</td>\n",
       "      <td>2415.484863</td>\n",
       "      <td>45.925720</td>\n",
       "      <td>1.979784</td>\n",
       "      <td>1.528099</td>\n",
       "    </tr>\n",
       "  </tbody>\n",
       "</table>\n",
       "</div>"
      ],
      "text/plain": [
       "   Frame        X (nm)       Y (nm)  X precision (nm)  Y precision (nm)  \\\n",
       "0     18  17393.363281  5341.088867         12.122814         14.760088   \n",
       "1     18  28469.585938  6503.035645         19.043039          8.590194   \n",
       "\n",
       "       Photons  Background  PSF Sigma X (pix)  PSF Sigma Y (pix)  \n",
       "0   576.440552   45.888653           1.065249           1.301303  \n",
       "1  2415.484863   45.925720           1.979784           1.528099  "
      ]
     },
     "execution_count": 6,
     "metadata": {},
     "output_type": "execute_result"
    }
   ],
   "source": [
    "# channel and z columns are useless so I drop them\n",
    "df_selected.drop(columns=['Channel', 'Z (nm)'], inplace=True)\n",
    "df_selected.head(2)"
   ]
  },
  {
   "cell_type": "markdown",
   "metadata": {},
   "source": [
    "Fix data"
   ]
  },
  {
   "cell_type": "code",
   "execution_count": 7,
   "metadata": {},
   "outputs": [
    {
     "data": {
      "text/html": [
       "<div>\n",
       "<style scoped>\n",
       "    .dataframe tbody tr th:only-of-type {\n",
       "        vertical-align: middle;\n",
       "    }\n",
       "\n",
       "    .dataframe tbody tr th {\n",
       "        vertical-align: top;\n",
       "    }\n",
       "\n",
       "    .dataframe thead th {\n",
       "        text-align: right;\n",
       "    }\n",
       "</style>\n",
       "<table border=\"1\" class=\"dataframe\">\n",
       "  <thead>\n",
       "    <tr style=\"text-align: right;\">\n",
       "      <th></th>\n",
       "      <th>Frame</th>\n",
       "      <th>X (nm)</th>\n",
       "      <th>Y (nm)</th>\n",
       "      <th>X precision (nm)</th>\n",
       "      <th>Y precision (nm)</th>\n",
       "      <th>Photons</th>\n",
       "      <th>Background</th>\n",
       "      <th>PSF Sigma X (nm)</th>\n",
       "      <th>PSF Sigma Y (nm)</th>\n",
       "    </tr>\n",
       "  </thead>\n",
       "  <tbody>\n",
       "    <tr>\n",
       "      <th>0</th>\n",
       "      <td>18</td>\n",
       "      <td>17393.363281</td>\n",
       "      <td>5341.088867</td>\n",
       "      <td>12.122814</td>\n",
       "      <td>14.760088</td>\n",
       "      <td>576.440552</td>\n",
       "      <td>45.888653</td>\n",
       "      <td>124.634133</td>\n",
       "      <td>152.252451</td>\n",
       "    </tr>\n",
       "    <tr>\n",
       "      <th>1</th>\n",
       "      <td>18</td>\n",
       "      <td>28469.585938</td>\n",
       "      <td>6503.035645</td>\n",
       "      <td>19.043039</td>\n",
       "      <td>8.590194</td>\n",
       "      <td>2415.484863</td>\n",
       "      <td>45.925720</td>\n",
       "      <td>231.634728</td>\n",
       "      <td>178.787583</td>\n",
       "    </tr>\n",
       "  </tbody>\n",
       "</table>\n",
       "</div>"
      ],
      "text/plain": [
       "   Frame        X (nm)       Y (nm)  X precision (nm)  Y precision (nm)  \\\n",
       "0     18  17393.363281  5341.088867         12.122814         14.760088   \n",
       "1     18  28469.585938  6503.035645         19.043039          8.590194   \n",
       "\n",
       "       Photons  Background  PSF Sigma X (nm)  PSF Sigma Y (nm)  \n",
       "0   576.440552   45.888653        124.634133        152.252451  \n",
       "1  2415.484863   45.925720        231.634728        178.787583  "
      ]
     },
     "execution_count": 7,
     "metadata": {},
     "output_type": "execute_result"
    }
   ],
   "source": [
    "# PSF should be in nm but ONI has left it as pixel\n",
    "# convert PSF to nm and change the column names\n",
    "pixel_size=117\n",
    "df_selected.rename(columns={\"PSF Sigma X (pix)\": \"PSF Sigma X (nm)\", \"PSF Sigma Y (pix)\": \"PSF Sigma Y (nm)\"}, inplace=True)\n",
    "df_selected[\"PSF Sigma X (nm)\"]=pixel_size*df_selected[\"PSF Sigma X (nm)\"]\n",
    "df_selected[\"PSF Sigma Y (nm)\"]=pixel_size*df_selected[\"PSF Sigma Y (nm)\"]\n",
    "df_selected.head(2)"
   ]
  },
  {
   "cell_type": "markdown",
   "metadata": {},
   "source": [
    "## Filter data"
   ]
  },
  {
   "cell_type": "code",
   "execution_count": 8,
   "metadata": {},
   "outputs": [],
   "source": [
    "# Apply filters\n",
    "\n",
    "# change range of each filters\n",
    "# comment filters that you do not need\n",
    "\n",
    "# Select frames by changing the numbers 100 and 1000\n",
    "df_selected=df_selected[(df_selected['Frame'] >=100) & (df_selected['Frame'] <=1000)] \n",
    "\n",
    "# Select photons by changing the numbers 300 and 5000\n",
    "df_selected=df_selected[(df_selected['Photons'] >=300) & (df_selected['Photons'] <=5000)]\n",
    "\n",
    "# Select X precision by changing the numbers 5 and 20\n",
    "df_selected=df_selected[(df_selected['X precision (nm)'] >=5) & (df_selected['X precision (nm)'] <=20)]\n",
    "\n",
    "# Select Y precision by changing the numbers 5 and 20\n",
    "df_selected=df_selected[(df_selected['Y precision (nm)'] >=5) & (df_selected['Y precision (nm)'] <=20)]\n",
    "\n",
    "# Select background less than 50\n",
    "df_selected=df_selected[df_selected['Background'] < 50]\n",
    "\n",
    "# Similarly, filters to other columns can be applied"
   ]
  },
  {
   "cell_type": "code",
   "execution_count": 9,
   "metadata": {},
   "outputs": [
    {
     "data": {
      "text/html": [
       "<div>\n",
       "<style scoped>\n",
       "    .dataframe tbody tr th:only-of-type {\n",
       "        vertical-align: middle;\n",
       "    }\n",
       "\n",
       "    .dataframe tbody tr th {\n",
       "        vertical-align: top;\n",
       "    }\n",
       "\n",
       "    .dataframe thead th {\n",
       "        text-align: right;\n",
       "    }\n",
       "</style>\n",
       "<table border=\"1\" class=\"dataframe\">\n",
       "  <thead>\n",
       "    <tr style=\"text-align: right;\">\n",
       "      <th></th>\n",
       "      <th>Frame</th>\n",
       "      <th>X (nm)</th>\n",
       "      <th>Y (nm)</th>\n",
       "      <th>X precision (nm)</th>\n",
       "      <th>Y precision (nm)</th>\n",
       "      <th>Photons</th>\n",
       "      <th>Background</th>\n",
       "      <th>PSF Sigma X (nm)</th>\n",
       "      <th>PSF Sigma Y (nm)</th>\n",
       "    </tr>\n",
       "  </thead>\n",
       "  <tbody>\n",
       "    <tr>\n",
       "      <th>3408</th>\n",
       "      <td>100</td>\n",
       "      <td>38154.527344</td>\n",
       "      <td>4343.988770</td>\n",
       "      <td>18.230947</td>\n",
       "      <td>15.368068</td>\n",
       "      <td>3348.474854</td>\n",
       "      <td>17.822321</td>\n",
       "      <td>341.204760</td>\n",
       "      <td>329.559633</td>\n",
       "    </tr>\n",
       "    <tr>\n",
       "      <th>3413</th>\n",
       "      <td>100</td>\n",
       "      <td>2763.216553</td>\n",
       "      <td>7205.334473</td>\n",
       "      <td>11.824074</td>\n",
       "      <td>14.438939</td>\n",
       "      <td>413.026886</td>\n",
       "      <td>41.141224</td>\n",
       "      <td>98.622108</td>\n",
       "      <td>128.444472</td>\n",
       "    </tr>\n",
       "    <tr>\n",
       "      <th>3428</th>\n",
       "      <td>100</td>\n",
       "      <td>9495.045898</td>\n",
       "      <td>33588.937500</td>\n",
       "      <td>9.045322</td>\n",
       "      <td>9.548347</td>\n",
       "      <td>2478.431152</td>\n",
       "      <td>47.241631</td>\n",
       "      <td>215.029269</td>\n",
       "      <td>225.304560</td>\n",
       "    </tr>\n",
       "    <tr>\n",
       "      <th>3429</th>\n",
       "      <td>100</td>\n",
       "      <td>1995.716675</td>\n",
       "      <td>35494.394531</td>\n",
       "      <td>17.268505</td>\n",
       "      <td>16.068125</td>\n",
       "      <td>609.832336</td>\n",
       "      <td>46.932186</td>\n",
       "      <td>166.893714</td>\n",
       "      <td>154.006983</td>\n",
       "    </tr>\n",
       "    <tr>\n",
       "      <th>3434</th>\n",
       "      <td>100</td>\n",
       "      <td>42532.035156</td>\n",
       "      <td>47797.285156</td>\n",
       "      <td>15.417689</td>\n",
       "      <td>19.281782</td>\n",
       "      <td>547.563354</td>\n",
       "      <td>48.882065</td>\n",
       "      <td>137.058246</td>\n",
       "      <td>172.986957</td>\n",
       "    </tr>\n",
       "  </tbody>\n",
       "</table>\n",
       "</div>"
      ],
      "text/plain": [
       "      Frame        X (nm)        Y (nm)  X precision (nm)  Y precision (nm)  \\\n",
       "3408    100  38154.527344   4343.988770         18.230947         15.368068   \n",
       "3413    100   2763.216553   7205.334473         11.824074         14.438939   \n",
       "3428    100   9495.045898  33588.937500          9.045322          9.548347   \n",
       "3429    100   1995.716675  35494.394531         17.268505         16.068125   \n",
       "3434    100  42532.035156  47797.285156         15.417689         19.281782   \n",
       "\n",
       "          Photons  Background  PSF Sigma X (nm)  PSF Sigma Y (nm)  \n",
       "3408  3348.474854   17.822321        341.204760        329.559633  \n",
       "3413   413.026886   41.141224         98.622108        128.444472  \n",
       "3428  2478.431152   47.241631        215.029269        225.304560  \n",
       "3429   609.832336   46.932186        166.893714        154.006983  \n",
       "3434   547.563354   48.882065        137.058246        172.986957  "
      ]
     },
     "execution_count": 9,
     "metadata": {},
     "output_type": "execute_result"
    }
   ],
   "source": [
    "# Look at the top 5 rows of the selected data\n",
    "df_selected.head()"
   ]
  },
  {
   "cell_type": "code",
   "execution_count": 10,
   "metadata": {},
   "outputs": [
    {
     "name": "stdout",
     "output_type": "stream",
     "text": [
      "<class 'pandas.core.frame.DataFrame'>\n",
      "Int64Index: 4521 entries, 3408 to 39045\n",
      "Data columns (total 9 columns):\n",
      " #   Column            Non-Null Count  Dtype  \n",
      "---  ------            --------------  -----  \n",
      " 0   Frame             4521 non-null   int64  \n",
      " 1   X (nm)            4521 non-null   float64\n",
      " 2   Y (nm)            4521 non-null   float64\n",
      " 3   X precision (nm)  4521 non-null   float64\n",
      " 4   Y precision (nm)  4521 non-null   float64\n",
      " 5   Photons           4521 non-null   float64\n",
      " 6   Background        4521 non-null   float64\n",
      " 7   PSF Sigma X (nm)  4521 non-null   float64\n",
      " 8   PSF Sigma Y (nm)  4521 non-null   float64\n",
      "dtypes: float64(8), int64(1)\n",
      "memory usage: 353.2 KB\n"
     ]
    }
   ],
   "source": [
    "# Look at the number of rows that passed the filter.\n",
    "df_selected.info()"
   ]
  },
  {
   "cell_type": "markdown",
   "metadata": {},
   "source": [
    "## Export selected data as csv"
   ]
  },
  {
   "cell_type": "code",
   "execution_count": 11,
   "metadata": {},
   "outputs": [],
   "source": [
    "# Write the localisation file csv\n",
    "df_selected.to_csv('Nanoimager_localizations_filtered.csv', index=False)"
   ]
  }
 ],
 "metadata": {
  "kernelspec": {
   "display_name": "Python 3",
   "language": "python",
   "name": "python3"
  },
  "language_info": {
   "codemirror_mode": {
    "name": "ipython",
    "version": 3
   },
   "file_extension": ".py",
   "mimetype": "text/x-python",
   "name": "python",
   "nbconvert_exporter": "python",
   "pygments_lexer": "ipython3",
   "version": "3.7.7"
  }
 },
 "nbformat": 4,
 "nbformat_minor": 4
}
