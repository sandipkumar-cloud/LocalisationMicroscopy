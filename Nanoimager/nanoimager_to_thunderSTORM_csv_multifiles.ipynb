{
 "cells": [
  {
   "cell_type": "markdown",
   "metadata": {},
   "source": [
    "# Select columns from Nanoimager csv and write a csv for ThunderSTORM"
   ]
  },
  {
   "cell_type": "code",
   "execution_count": 1,
   "metadata": {},
   "outputs": [],
   "source": [
    "import pandas as pd\n",
    "import numpy as np"
   ]
  },
  {
   "cell_type": "code",
   "execution_count": 2,
   "metadata": {},
   "outputs": [],
   "source": [
    "import os\n",
    "import tkinter\n",
    "from tkinter import filedialog\n",
    "from tkinter import *\n",
    "\n",
    "curr_directory = os.getcwd() # will get current working directory\n",
    "file_names=  filedialog.askopenfilenames(initialdir = curr_directory,title = \"Select file\",filetypes = ((\"ONI csv files\",\"*.csv\"),(\"all files\",\"*.*\")))"
   ]
  },
  {
   "cell_type": "code",
   "execution_count": 3,
   "metadata": {},
   "outputs": [],
   "source": [
    "# Load the localisation file from the nanoimager as a dataframe\n",
    "for i in np.arange(len(file_names)):\n",
    "    df = pd.read_csv(file_names[i])\n",
    "    \n",
    "    # Here I only want channel 1 or the red channel\n",
    "    df=df[df.Channel == 1] # filter channel 1\n",
    "    \n",
    "    # Here I create a column named id and insert it to the start of the dataframe\n",
    "    id = np.arange(start=1, stop=df.shape[0]+1, step=1)\n",
    "    id = pd.Series(id) # convert numpy array to pandas series\n",
    "    df.insert(0, \"id\", id, True)\n",
    "    \n",
    "    # Here I select columns for further analysis using ThunderSTORM \n",
    "    df_selected=df[[\"id\", \"Frame\", \"X (nm)\", \"Y (nm)\", \"Photons\", \"Background\"]]\n",
    "    \n",
    "    # Here I change the column names to a ThunderSTORM friendly format\n",
    "    df_selected.columns = ['id', 'frame','x [nm]','y [nm]','intensity [photon]','bkgstd [photon]']\n",
    "    \n",
    "    # Write the localisation file csv for ThunderSTORM\n",
    "    filename_result=file_names[i][:-4]+'_edited.csv'\n",
    "    df_selected.to_csv(filename_result)"
   ]
  },
  {
   "cell_type": "code",
   "execution_count": null,
   "metadata": {},
   "outputs": [],
   "source": []
  }
 ],
 "metadata": {
  "kernelspec": {
   "display_name": "Python 3",
   "language": "python",
   "name": "python3"
  },
  "language_info": {
   "codemirror_mode": {
    "name": "ipython",
    "version": 3
   },
   "file_extension": ".py",
   "mimetype": "text/x-python",
   "name": "python",
   "nbconvert_exporter": "python",
   "pygments_lexer": "ipython3",
   "version": "3.8.5"
  }
 },
 "nbformat": 4,
 "nbformat_minor": 4
}
