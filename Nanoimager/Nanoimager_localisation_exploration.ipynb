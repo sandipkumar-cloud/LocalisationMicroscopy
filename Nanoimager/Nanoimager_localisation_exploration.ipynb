{
 "cells": [
  {
   "cell_type": "markdown",
   "metadata": {},
   "source": [
    "# Explore Nanoimager csv"
   ]
  },
  {
   "cell_type": "markdown",
   "metadata": {},
   "source": [
    "**ONI Nanoimager is a commercial widefield microscope which is used for localisation microscopy. The Nanoimager software has lots of cool features to explore and analyse the localisation data. Although you may want to explore the data further using a programming language. Python pandas is excellent for exploring and analysing tabular data and here I use it to explore the Nanoimager data which was exported as a csv.**"
   ]
  },
  {
   "cell_type": "markdown",
   "metadata": {},
   "source": [
    "## Load and clean data"
   ]
  },
  {
   "cell_type": "markdown",
   "metadata": {},
   "source": [
    "### Load data"
   ]
  },
  {
   "cell_type": "code",
   "execution_count": 1,
   "metadata": {},
   "outputs": [],
   "source": [
    "# Here I import the python packages.\n",
    "import pandas as pd\n",
    "import numpy as np\n",
    "import matplotlib.pyplot as plt\n",
    "%matplotlib inline"
   ]
  },
  {
   "cell_type": "code",
   "execution_count": 2,
   "metadata": {},
   "outputs": [],
   "source": [
    "# Load the localisation file from the nanoimager as a dataframe\n",
    "df = pd.read_csv('SK_MG_LPS647_sparse_STORM_sample1a3_localizations.csv')"
   ]
  },
  {
   "cell_type": "code",
   "execution_count": 3,
   "metadata": {},
   "outputs": [
    {
     "data": {
      "text/html": [
       "<div>\n",
       "<style scoped>\n",
       "    .dataframe tbody tr th:only-of-type {\n",
       "        vertical-align: middle;\n",
       "    }\n",
       "\n",
       "    .dataframe tbody tr th {\n",
       "        vertical-align: top;\n",
       "    }\n",
       "\n",
       "    .dataframe thead th {\n",
       "        text-align: right;\n",
       "    }\n",
       "</style>\n",
       "<table border=\"1\" class=\"dataframe\">\n",
       "  <thead>\n",
       "    <tr style=\"text-align: right;\">\n",
       "      <th></th>\n",
       "      <th>Channel</th>\n",
       "      <th>Frame</th>\n",
       "      <th>X (nm)</th>\n",
       "      <th>Y (nm)</th>\n",
       "      <th>Z (nm)</th>\n",
       "      <th>X precision (nm)</th>\n",
       "      <th>Y precision (nm)</th>\n",
       "      <th>Photons</th>\n",
       "      <th>Background</th>\n",
       "      <th>PSF Sigma X (pix)</th>\n",
       "      <th>PSF Sigma Y (pix)</th>\n",
       "    </tr>\n",
       "  </thead>\n",
       "  <tbody>\n",
       "    <tr>\n",
       "      <th>0</th>\n",
       "      <td>1</td>\n",
       "      <td>18</td>\n",
       "      <td>17393.363281</td>\n",
       "      <td>5341.088867</td>\n",
       "      <td>0.0</td>\n",
       "      <td>12.122814</td>\n",
       "      <td>14.760088</td>\n",
       "      <td>576.440552</td>\n",
       "      <td>45.888653</td>\n",
       "      <td>1.065249</td>\n",
       "      <td>1.301303</td>\n",
       "    </tr>\n",
       "    <tr>\n",
       "      <th>1</th>\n",
       "      <td>1</td>\n",
       "      <td>18</td>\n",
       "      <td>28469.585938</td>\n",
       "      <td>6503.035645</td>\n",
       "      <td>0.0</td>\n",
       "      <td>19.043039</td>\n",
       "      <td>8.590194</td>\n",
       "      <td>2415.484863</td>\n",
       "      <td>45.925720</td>\n",
       "      <td>1.979784</td>\n",
       "      <td>1.528099</td>\n",
       "    </tr>\n",
       "  </tbody>\n",
       "</table>\n",
       "</div>"
      ],
      "text/plain": [
       "   Channel  Frame        X (nm)       Y (nm)  Z (nm)  X precision (nm)  \\\n",
       "0        1     18  17393.363281  5341.088867     0.0         12.122814   \n",
       "1        1     18  28469.585938  6503.035645     0.0         19.043039   \n",
       "\n",
       "   Y precision (nm)      Photons  Background  PSF Sigma X (pix)  \\\n",
       "0         14.760088   576.440552   45.888653           1.065249   \n",
       "1          8.590194  2415.484863   45.925720           1.979784   \n",
       "\n",
       "   PSF Sigma Y (pix)  \n",
       "0           1.301303  \n",
       "1           1.528099  "
      ]
     },
     "execution_count": 3,
     "metadata": {},
     "output_type": "execute_result"
    }
   ],
   "source": [
    "# Here I look at the top two rows of the dataframe.\n",
    "df.head(2)"
   ]
  },
  {
   "cell_type": "code",
   "execution_count": 4,
   "metadata": {},
   "outputs": [
    {
     "name": "stdout",
     "output_type": "stream",
     "text": [
      "<class 'pandas.core.frame.DataFrame'>\n",
      "RangeIndex: 485058 entries, 0 to 485057\n",
      "Data columns (total 11 columns):\n",
      " #   Column             Non-Null Count   Dtype  \n",
      "---  ------             --------------   -----  \n",
      " 0   Channel            485058 non-null  int64  \n",
      " 1   Frame              485058 non-null  int64  \n",
      " 2   X (nm)             485058 non-null  float64\n",
      " 3   Y (nm)             485058 non-null  float64\n",
      " 4   Z (nm)             485058 non-null  float64\n",
      " 5   X precision (nm)   485058 non-null  float64\n",
      " 6   Y precision (nm)   485058 non-null  float64\n",
      " 7   Photons            485058 non-null  float64\n",
      " 8   Background         485058 non-null  float64\n",
      " 9   PSF Sigma X (pix)  485058 non-null  float64\n",
      " 10  PSF Sigma Y (pix)  485058 non-null  float64\n",
      "dtypes: float64(9), int64(2)\n",
      "memory usage: 40.7 MB\n"
     ]
    }
   ],
   "source": [
    "# Here,I look at the column names, their datatypes and the number of rows.\n",
    "df.info()"
   ]
  },
  {
   "cell_type": "markdown",
   "metadata": {},
   "source": [
    "### Clean data"
   ]
  },
  {
   "cell_type": "markdown",
   "metadata": {},
   "source": [
    "Choose the colour channel (green 0 or red 1)"
   ]
  },
  {
   "cell_type": "code",
   "execution_count": 5,
   "metadata": {},
   "outputs": [
    {
     "data": {
      "text/plain": [
       "(485058, 11)"
      ]
     },
     "execution_count": 5,
     "metadata": {},
     "output_type": "execute_result"
    }
   ],
   "source": [
    "# Here I only want channel 1 or the red channel\n",
    "df=df[df.Channel == 1] # filter channel 1, use 0 for the green channel\n",
    "df.shape # In this case we only had channel 1 so no change in number of rows."
   ]
  },
  {
   "cell_type": "markdown",
   "metadata": {},
   "source": [
    "Drop useless columns"
   ]
  },
  {
   "cell_type": "code",
   "execution_count": 6,
   "metadata": {},
   "outputs": [
    {
     "data": {
      "text/html": [
       "<div>\n",
       "<style scoped>\n",
       "    .dataframe tbody tr th:only-of-type {\n",
       "        vertical-align: middle;\n",
       "    }\n",
       "\n",
       "    .dataframe tbody tr th {\n",
       "        vertical-align: top;\n",
       "    }\n",
       "\n",
       "    .dataframe thead th {\n",
       "        text-align: right;\n",
       "    }\n",
       "</style>\n",
       "<table border=\"1\" class=\"dataframe\">\n",
       "  <thead>\n",
       "    <tr style=\"text-align: right;\">\n",
       "      <th></th>\n",
       "      <th>Frame</th>\n",
       "      <th>X (nm)</th>\n",
       "      <th>Y (nm)</th>\n",
       "      <th>X precision (nm)</th>\n",
       "      <th>Y precision (nm)</th>\n",
       "      <th>Photons</th>\n",
       "      <th>Background</th>\n",
       "      <th>PSF Sigma X (pix)</th>\n",
       "      <th>PSF Sigma Y (pix)</th>\n",
       "    </tr>\n",
       "  </thead>\n",
       "  <tbody>\n",
       "    <tr>\n",
       "      <th>0</th>\n",
       "      <td>18</td>\n",
       "      <td>17393.363281</td>\n",
       "      <td>5341.088867</td>\n",
       "      <td>12.122814</td>\n",
       "      <td>14.760088</td>\n",
       "      <td>576.440552</td>\n",
       "      <td>45.888653</td>\n",
       "      <td>1.065249</td>\n",
       "      <td>1.301303</td>\n",
       "    </tr>\n",
       "    <tr>\n",
       "      <th>1</th>\n",
       "      <td>18</td>\n",
       "      <td>28469.585938</td>\n",
       "      <td>6503.035645</td>\n",
       "      <td>19.043039</td>\n",
       "      <td>8.590194</td>\n",
       "      <td>2415.484863</td>\n",
       "      <td>45.925720</td>\n",
       "      <td>1.979784</td>\n",
       "      <td>1.528099</td>\n",
       "    </tr>\n",
       "  </tbody>\n",
       "</table>\n",
       "</div>"
      ],
      "text/plain": [
       "   Frame        X (nm)       Y (nm)  X precision (nm)  Y precision (nm)  \\\n",
       "0     18  17393.363281  5341.088867         12.122814         14.760088   \n",
       "1     18  28469.585938  6503.035645         19.043039          8.590194   \n",
       "\n",
       "       Photons  Background  PSF Sigma X (pix)  PSF Sigma Y (pix)  \n",
       "0   576.440552   45.888653           1.065249           1.301303  \n",
       "1  2415.484863   45.925720           1.979784           1.528099  "
      ]
     },
     "execution_count": 6,
     "metadata": {},
     "output_type": "execute_result"
    }
   ],
   "source": [
    "# channel and z columns are useless so I drop them\n",
    "df.drop(columns=['Channel', 'Z (nm)'], inplace=True)\n",
    "df.head(2)"
   ]
  },
  {
   "cell_type": "markdown",
   "metadata": {},
   "source": [
    "Fix data"
   ]
  },
  {
   "cell_type": "code",
   "execution_count": 7,
   "metadata": {},
   "outputs": [
    {
     "data": {
      "text/html": [
       "<div>\n",
       "<style scoped>\n",
       "    .dataframe tbody tr th:only-of-type {\n",
       "        vertical-align: middle;\n",
       "    }\n",
       "\n",
       "    .dataframe tbody tr th {\n",
       "        vertical-align: top;\n",
       "    }\n",
       "\n",
       "    .dataframe thead th {\n",
       "        text-align: right;\n",
       "    }\n",
       "</style>\n",
       "<table border=\"1\" class=\"dataframe\">\n",
       "  <thead>\n",
       "    <tr style=\"text-align: right;\">\n",
       "      <th></th>\n",
       "      <th>Frame</th>\n",
       "      <th>X (nm)</th>\n",
       "      <th>Y (nm)</th>\n",
       "      <th>X precision (nm)</th>\n",
       "      <th>Y precision (nm)</th>\n",
       "      <th>Photons</th>\n",
       "      <th>Background</th>\n",
       "      <th>PSF Sigma X (nm)</th>\n",
       "      <th>PSF Sigma Y (nm)</th>\n",
       "    </tr>\n",
       "  </thead>\n",
       "  <tbody>\n",
       "    <tr>\n",
       "      <th>0</th>\n",
       "      <td>18</td>\n",
       "      <td>17393.363281</td>\n",
       "      <td>5341.088867</td>\n",
       "      <td>12.122814</td>\n",
       "      <td>14.760088</td>\n",
       "      <td>576.440552</td>\n",
       "      <td>45.888653</td>\n",
       "      <td>124.634133</td>\n",
       "      <td>152.252451</td>\n",
       "    </tr>\n",
       "    <tr>\n",
       "      <th>1</th>\n",
       "      <td>18</td>\n",
       "      <td>28469.585938</td>\n",
       "      <td>6503.035645</td>\n",
       "      <td>19.043039</td>\n",
       "      <td>8.590194</td>\n",
       "      <td>2415.484863</td>\n",
       "      <td>45.925720</td>\n",
       "      <td>231.634728</td>\n",
       "      <td>178.787583</td>\n",
       "    </tr>\n",
       "  </tbody>\n",
       "</table>\n",
       "</div>"
      ],
      "text/plain": [
       "   Frame        X (nm)       Y (nm)  X precision (nm)  Y precision (nm)  \\\n",
       "0     18  17393.363281  5341.088867         12.122814         14.760088   \n",
       "1     18  28469.585938  6503.035645         19.043039          8.590194   \n",
       "\n",
       "       Photons  Background  PSF Sigma X (nm)  PSF Sigma Y (nm)  \n",
       "0   576.440552   45.888653        124.634133        152.252451  \n",
       "1  2415.484863   45.925720        231.634728        178.787583  "
      ]
     },
     "execution_count": 7,
     "metadata": {},
     "output_type": "execute_result"
    }
   ],
   "source": [
    "# PSF should be in nm but ONI has left it as pixel\n",
    "# convert PSF to nm and change the column names\n",
    "pixel_size=117\n",
    "df.rename(columns={\"PSF Sigma X (pix)\": \"PSF Sigma X (nm)\", \"PSF Sigma Y (pix)\": \"PSF Sigma Y (nm)\"}, inplace=True)\n",
    "df[\"PSF Sigma X (nm)\"]=pixel_size*df[\"PSF Sigma X (nm)\"]\n",
    "df[\"PSF Sigma Y (nm)\"]=pixel_size*df[\"PSF Sigma Y (nm)\"]\n",
    "df.head(2)"
   ]
  },
  {
   "cell_type": "markdown",
   "metadata": {},
   "source": [
    "## Explore data"
   ]
  },
  {
   "cell_type": "markdown",
   "metadata": {},
   "source": [
    "Pandas has some cool tools to explore all the columns in the dataframe in one go. Below I plot the histogram and compute the summary statistics of all the columns."
   ]
  },
  {
   "cell_type": "code",
   "execution_count": 8,
   "metadata": {},
   "outputs": [
    {
     "data": {
      "image/png": "[encoded data removed]",
      "text/plain": [
       "<Figure size 864x864 with 9 Axes>"
      ]
     },
     "metadata": {
      "needs_background": "light"
     },
     "output_type": "display_data"
    }
   ],
   "source": [
    "# Here, I plot the histogram of each column.\n",
    "df.hist(figsize=(12,12));"
   ]
  },
  {
   "cell_type": "markdown",
   "metadata": {},
   "source": [
    "Clearly, you can see the background is very low except for some localisations it is high. Most probably these localisations are of bright fiducials. The frame histogram shows how the number of localisations in each frame goes down with time. You can also see the distribution of sigma and precision. Looking at summary histograms, we can choose what variables to explore further and I will do that a little later."
   ]
  },
  {
   "cell_type": "code",
   "execution_count": 9,
   "metadata": {},
   "outputs": [
    {
     "data": {
      "text/html": [
       "<div>\n",
       "<style scoped>\n",
       "    .dataframe tbody tr th:only-of-type {\n",
       "        vertical-align: middle;\n",
       "    }\n",
       "\n",
       "    .dataframe tbody tr th {\n",
       "        vertical-align: top;\n",
       "    }\n",
       "\n",
       "    .dataframe thead th {\n",
       "        text-align: right;\n",
       "    }\n",
       "</style>\n",
       "<table border=\"1\" class=\"dataframe\">\n",
       "  <thead>\n",
       "    <tr style=\"text-align: right;\">\n",
       "      <th></th>\n",
       "      <th>Frame</th>\n",
       "      <th>X (nm)</th>\n",
       "      <th>Y (nm)</th>\n",
       "      <th>X precision (nm)</th>\n",
       "      <th>Y precision (nm)</th>\n",
       "      <th>Photons</th>\n",
       "      <th>Background</th>\n",
       "      <th>PSF Sigma X (nm)</th>\n",
       "      <th>PSF Sigma Y (nm)</th>\n",
       "    </tr>\n",
       "  </thead>\n",
       "  <tbody>\n",
       "    <tr>\n",
       "      <th>count</th>\n",
       "      <td>485058.000000</td>\n",
       "      <td>485058.000000</td>\n",
       "      <td>485058.000000</td>\n",
       "      <td>485058.000000</td>\n",
       "      <td>485058.000000</td>\n",
       "      <td>485058.000000</td>\n",
       "      <td>485058.000000</td>\n",
       "      <td>485058.000000</td>\n",
       "      <td>485058.000000</td>\n",
       "    </tr>\n",
       "    <tr>\n",
       "      <th>mean</th>\n",
       "      <td>7475.652716</td>\n",
       "      <td>24906.905694</td>\n",
       "      <td>32007.100289</td>\n",
       "      <td>13.960656</td>\n",
       "      <td>12.482167</td>\n",
       "      <td>4117.431551</td>\n",
       "      <td>87.426190</td>\n",
       "      <td>182.416683</td>\n",
       "      <td>175.285685</td>\n",
       "    </tr>\n",
       "    <tr>\n",
       "      <th>std</th>\n",
       "      <td>5033.207842</td>\n",
       "      <td>13713.426682</td>\n",
       "      <td>21537.240264</td>\n",
       "      <td>17.447054</td>\n",
       "      <td>15.398973</td>\n",
       "      <td>5524.604444</td>\n",
       "      <td>151.430780</td>\n",
       "      <td>80.190685</td>\n",
       "      <td>79.632711</td>\n",
       "    </tr>\n",
       "    <tr>\n",
       "      <th>min</th>\n",
       "      <td>18.000000</td>\n",
       "      <td>1.309590</td>\n",
       "      <td>509.646301</td>\n",
       "      <td>0.885663</td>\n",
       "      <td>1.000285</td>\n",
       "      <td>100.147057</td>\n",
       "      <td>0.000000</td>\n",
       "      <td>26.682435</td>\n",
       "      <td>25.031916</td>\n",
       "    </tr>\n",
       "    <tr>\n",
       "      <th>25%</th>\n",
       "      <td>2966.000000</td>\n",
       "      <td>16927.644043</td>\n",
       "      <td>9393.729004</td>\n",
       "      <td>4.342680</td>\n",
       "      <td>4.313997</td>\n",
       "      <td>806.805130</td>\n",
       "      <td>46.052431</td>\n",
       "      <td>130.988432</td>\n",
       "      <td>122.278338</td>\n",
       "    </tr>\n",
       "    <tr>\n",
       "      <th>50%</th>\n",
       "      <td>6831.000000</td>\n",
       "      <td>25006.969726</td>\n",
       "      <td>29424.899415</td>\n",
       "      <td>9.105315</td>\n",
       "      <td>8.586584</td>\n",
       "      <td>1954.800110</td>\n",
       "      <td>57.544050</td>\n",
       "      <td>152.731449</td>\n",
       "      <td>144.199575</td>\n",
       "    </tr>\n",
       "    <tr>\n",
       "      <th>75%</th>\n",
       "      <td>11612.000000</td>\n",
       "      <td>34370.535157</td>\n",
       "      <td>50271.780274</td>\n",
       "      <td>17.485763</td>\n",
       "      <td>15.446520</td>\n",
       "      <td>5220.878784</td>\n",
       "      <td>72.428783</td>\n",
       "      <td>204.503686</td>\n",
       "      <td>204.460191</td>\n",
       "    </tr>\n",
       "    <tr>\n",
       "      <th>max</th>\n",
       "      <td>17626.000000</td>\n",
       "      <td>49876.058594</td>\n",
       "      <td>80122.859375</td>\n",
       "      <td>350.278046</td>\n",
       "      <td>350.405975</td>\n",
       "      <td>125032.578125</td>\n",
       "      <td>1335.638916</td>\n",
       "      <td>517.196511</td>\n",
       "      <td>517.190895</td>\n",
       "    </tr>\n",
       "  </tbody>\n",
       "</table>\n",
       "</div>"
      ],
      "text/plain": [
       "               Frame         X (nm)         Y (nm)  X precision (nm)  \\\n",
       "count  485058.000000  485058.000000  485058.000000     485058.000000   \n",
       "mean     7475.652716   24906.905694   32007.100289         13.960656   \n",
       "std      5033.207842   13713.426682   21537.240264         17.447054   \n",
       "min        18.000000       1.309590     509.646301          0.885663   \n",
       "25%      2966.000000   16927.644043    9393.729004          4.342680   \n",
       "50%      6831.000000   25006.969726   29424.899415          9.105315   \n",
       "75%     11612.000000   34370.535157   50271.780274         17.485763   \n",
       "max     17626.000000   49876.058594   80122.859375        350.278046   \n",
       "\n",
       "       Y precision (nm)        Photons     Background  PSF Sigma X (nm)  \\\n",
       "count     485058.000000  485058.000000  485058.000000     485058.000000   \n",
       "mean          12.482167    4117.431551      87.426190        182.416683   \n",
       "std           15.398973    5524.604444     151.430780         80.190685   \n",
       "min            1.000285     100.147057       0.000000         26.682435   \n",
       "25%            4.313997     806.805130      46.052431        130.988432   \n",
       "50%            8.586584    1954.800110      57.544050        152.731449   \n",
       "75%           15.446520    5220.878784      72.428783        204.503686   \n",
       "max          350.405975  125032.578125    1335.638916        517.196511   \n",
       "\n",
       "       PSF Sigma Y (nm)  \n",
       "count     485058.000000  \n",
       "mean         175.285685  \n",
       "std           79.632711  \n",
       "min           25.031916  \n",
       "25%          122.278338  \n",
       "50%          144.199575  \n",
       "75%          204.460191  \n",
       "max          517.190895  "
      ]
     },
     "execution_count": 9,
     "metadata": {},
     "output_type": "execute_result"
    }
   ],
   "source": [
    "# Here, I compute the summary statistics of each column.\n",
    "df.describe()"
   ]
  },
  {
   "cell_type": "markdown",
   "metadata": {},
   "source": [
    "Describe() computes the summary statistics of the columns. For example the X precision has a mean of 14 nm and a standard deviation of 17 nm. The quartiles are also computed. "
   ]
  },
  {
   "cell_type": "markdown",
   "metadata": {},
   "source": [
    "## Individual exploration of some of the variable distribution"
   ]
  },
  {
   "cell_type": "markdown",
   "metadata": {},
   "source": [
    "Not all fluorophores emit the same number of photons. Here I explore the photon distribution of the localisations."
   ]
  },
  {
   "cell_type": "code",
   "execution_count": 10,
   "metadata": {},
   "outputs": [
    {
     "data": {
      "image/png": "[encoded data removed]",
      "text/plain": [
       "<Figure size 432x288 with 1 Axes>"
      ]
     },
     "metadata": {
      "needs_background": "light"
     },
     "output_type": "display_data"
    }
   ],
   "source": [
    "# Photon distribution\n",
    "plt.hist(df['Photons'], bins=50, range = (100, 10000), density=True, label = 'Photons')\n",
    "plt.xlabel('Photons count')\n",
    "plt.ylabel('pdf');"
   ]
  },
  {
   "cell_type": "code",
   "execution_count": 11,
   "metadata": {},
   "outputs": [
    {
     "data": {
      "image/png": "[encoded data removed]",
      "text/plain": [
       "<Figure size 432x288 with 1 Axes>"
      ]
     },
     "metadata": {
      "needs_background": "light"
     },
     "output_type": "display_data"
    }
   ],
   "source": [
    "# Background photon distribution\n",
    "plt.hist(df['Background'], bins=50, range = (0, 1000), density=True, label = 'Background')\n",
    "plt.xlabel('Background photons count')\n",
    "plt.ylabel('pdf');"
   ]
  },
  {
   "cell_type": "markdown",
   "metadata": {},
   "source": [
    "The precision of the localisations vary for each fluorphore and depends on the photon counts. Here I explore the distribution of X precision."
   ]
  },
  {
   "cell_type": "code",
   "execution_count": 12,
   "metadata": {},
   "outputs": [
    {
     "data": {
      "image/png": "[encoded data removed]",
      "text/plain": [
       "<Figure size 432x288 with 1 Axes>"
      ]
     },
     "metadata": {
      "needs_background": "light"
     },
     "output_type": "display_data"
    }
   ],
   "source": [
    "plt.hist(df['X precision (nm)'], bins=15, range = (0, 100), density=True, label = 'X precision (nm)')\n",
    "plt.xlabel('X precision (nm)')\n",
    "plt.ylabel('pdf');"
   ]
  },
  {
   "cell_type": "markdown",
   "metadata": {},
   "source": [
    "The fluorphores are fit with a Gaussian to get its localisation centre. Here I explore the sigma from the fit."
   ]
  },
  {
   "cell_type": "code",
   "execution_count": 13,
   "metadata": {},
   "outputs": [
    {
     "data": {
      "image/png": "[encoded data removed]",
      "text/plain": [
       "<Figure size 432x288 with 1 Axes>"
      ]
     },
     "metadata": {
      "needs_background": "light"
     },
     "output_type": "display_data"
    }
   ],
   "source": [
    "plt.hist(df['PSF Sigma X (nm)'], bins=50, range = (0, 600), density=True, label = 'PSF Sigma X (nm)')\n",
    "plt.xlabel('PSF Sigma X (nm)')\n",
    "plt.ylabel('pdf');"
   ]
  },
  {
   "cell_type": "markdown",
   "metadata": {},
   "source": [
    "### Here I select a small region of the data to visualise it."
   ]
  },
  {
   "cell_type": "code",
   "execution_count": 14,
   "metadata": {},
   "outputs": [
    {
     "data": {
      "image/png": "[encoded data removed]",
      "text/plain": [
       "<Figure size 864x864 with 1 Axes>"
      ]
     },
     "metadata": {
      "needs_background": "light"
     },
     "output_type": "display_data"
    }
   ],
   "source": [
    "# look at a small area\n",
    "# You can think of it as a way of cropping the data\n",
    "x=df['X (nm)'][(df['X (nm)']>20000) & (df['X (nm)']<30000) & (df['Y (nm)']>20000) & (df['Y (nm)']<30000)]\n",
    "y=df['Y (nm)'][(df['X (nm)']>20000) & (df['X (nm)']<30000) & (df['Y (nm)']>20000) & (df['Y (nm)']<30000)]\n",
    "plt.figure(figsize=(12,12))\n",
    "plt.scatter(x, y)\n",
    "plt.xlabel('X (nm)')\n",
    "plt.ylabel('Y (nm)')\n",
    "plt.axis('equal');"
   ]
  }
 ],
 "metadata": {
  "kernelspec": {
   "display_name": "Python 3",
   "language": "python",
   "name": "python3"
  },
  "language_info": {
   "codemirror_mode": {
    "name": "ipython",
    "version": 3
   },
   "file_extension": ".py",
   "mimetype": "text/x-python",
   "name": "python",
   "nbconvert_exporter": "python",
   "pygments_lexer": "ipython3",
   "version": "3.7.7"
  }
 },
 "nbformat": 4,
 "nbformat_minor": 4
}
