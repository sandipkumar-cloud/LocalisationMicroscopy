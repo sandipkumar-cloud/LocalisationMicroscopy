{
 "cells": [
  {
   "cell_type": "markdown",
   "metadata": {},
   "source": [
    "# Merge localisation from fluorophores that were on for multiple frames"
   ]
  },
  {
   "cell_type": "markdown",
   "metadata": {},
   "source": [
    "**In STORM, PALM and similar localisation microscopy techniques, a fluorophore can be on for more than one frame and we would like to count them as one and get their average xy-position. ThunderSTORM, an imageJ plugin to analyse localisation microscopy data, has a function to merge such localisations and also provides multiple algorithms to do so. Although, in the process of merging, ThunderSTORM loses the identity of the particles that were merged and there is no simple way to check the merge quality. Here, I have a simple merge algorithm where I use nearest neighbour calculations in consecutive frames and assign a localisation within 60nm between two frames the same id (merge_id) while keeping their id intact. Later I use pandas groupby to group the merged localisations and explore their spatial distribution.**"
   ]
  },
  {
   "cell_type": "markdown",
   "metadata": {},
   "source": [
    "## Load and clean data"
   ]
  },
  {
   "cell_type": "code",
   "execution_count": 1,
   "metadata": {},
   "outputs": [],
   "source": [
    "# Here I import the python packages.\n",
    "import pandas as pd\n",
    "import numpy as np"
   ]
  },
  {
   "cell_type": "markdown",
   "metadata": {},
   "source": [
    "As a first step in localisation microscopy the drift in the localisations is corrected. I have used ThunderSTORM to correct for the drift. Here I am loading the drift corrected localisation file."
   ]
  },
  {
   "cell_type": "code",
   "execution_count": 2,
   "metadata": {},
   "outputs": [
    {
     "data": {
      "text/html": [
       "<div>\n",
       "<style scoped>\n",
       "    .dataframe tbody tr th:only-of-type {\n",
       "        vertical-align: middle;\n",
       "    }\n",
       "\n",
       "    .dataframe tbody tr th {\n",
       "        vertical-align: top;\n",
       "    }\n",
       "\n",
       "    .dataframe thead th {\n",
       "        text-align: right;\n",
       "    }\n",
       "</style>\n",
       "<table border=\"1\" class=\"dataframe\">\n",
       "  <thead>\n",
       "    <tr style=\"text-align: right;\">\n",
       "      <th></th>\n",
       "      <th>id</th>\n",
       "      <th>frame</th>\n",
       "      <th>x [nm]</th>\n",
       "      <th>y [nm]</th>\n",
       "      <th>intensity [photon]</th>\n",
       "      <th>bkgstd [photon]</th>\n",
       "    </tr>\n",
       "  </thead>\n",
       "  <tbody>\n",
       "    <tr>\n",
       "      <th>0</th>\n",
       "      <td>1</td>\n",
       "      <td>1</td>\n",
       "      <td>8757.32179</td>\n",
       "      <td>17669.20288</td>\n",
       "      <td>744.71560</td>\n",
       "      <td>21.05830</td>\n",
       "    </tr>\n",
       "    <tr>\n",
       "      <th>1</th>\n",
       "      <td>2</td>\n",
       "      <td>1</td>\n",
       "      <td>9298.97079</td>\n",
       "      <td>15761.73288</td>\n",
       "      <td>45.41433</td>\n",
       "      <td>19.87785</td>\n",
       "    </tr>\n",
       "  </tbody>\n",
       "</table>\n",
       "</div>"
      ],
      "text/plain": [
       "   id  frame      x [nm]       y [nm]  intensity [photon]  bkgstd [photon]\n",
       "0   1      1  8757.32179  17669.20288           744.71560         21.05830\n",
       "1   2      1  9298.97079  15761.73288            45.41433         19.87785"
      ]
     },
     "execution_count": 2,
     "metadata": {},
     "output_type": "execute_result"
    }
   ],
   "source": [
    "# load drift corrected csv\n",
    "df=pd.read_csv('df_ThunderSTORM_drift_corrected.csv')\n",
    "df.head(2)"
   ]
  },
  {
   "cell_type": "code",
   "execution_count": 3,
   "metadata": {},
   "outputs": [
    {
     "data": {
      "text/html": [
       "<div>\n",
       "<style scoped>\n",
       "    .dataframe tbody tr th:only-of-type {\n",
       "        vertical-align: middle;\n",
       "    }\n",
       "\n",
       "    .dataframe tbody tr th {\n",
       "        vertical-align: top;\n",
       "    }\n",
       "\n",
       "    .dataframe thead th {\n",
       "        text-align: right;\n",
       "    }\n",
       "</style>\n",
       "<table border=\"1\" class=\"dataframe\">\n",
       "  <thead>\n",
       "    <tr style=\"text-align: right;\">\n",
       "      <th></th>\n",
       "      <th>id</th>\n",
       "      <th>frame</th>\n",
       "      <th>x [nm]</th>\n",
       "      <th>y [nm]</th>\n",
       "    </tr>\n",
       "  </thead>\n",
       "  <tbody>\n",
       "    <tr>\n",
       "      <th>0</th>\n",
       "      <td>1</td>\n",
       "      <td>1</td>\n",
       "      <td>8757.32179</td>\n",
       "      <td>17669.20288</td>\n",
       "    </tr>\n",
       "    <tr>\n",
       "      <th>1</th>\n",
       "      <td>2</td>\n",
       "      <td>1</td>\n",
       "      <td>9298.97079</td>\n",
       "      <td>15761.73288</td>\n",
       "    </tr>\n",
       "    <tr>\n",
       "      <th>2</th>\n",
       "      <td>3</td>\n",
       "      <td>1</td>\n",
       "      <td>11398.99679</td>\n",
       "      <td>17689.55988</td>\n",
       "    </tr>\n",
       "    <tr>\n",
       "      <th>3</th>\n",
       "      <td>4</td>\n",
       "      <td>1</td>\n",
       "      <td>11366.77179</td>\n",
       "      <td>22947.62888</td>\n",
       "    </tr>\n",
       "    <tr>\n",
       "      <th>4</th>\n",
       "      <td>5</td>\n",
       "      <td>1</td>\n",
       "      <td>11441.55479</td>\n",
       "      <td>12478.12388</td>\n",
       "    </tr>\n",
       "  </tbody>\n",
       "</table>\n",
       "</div>"
      ],
      "text/plain": [
       "   id  frame       x [nm]       y [nm]\n",
       "0   1      1   8757.32179  17669.20288\n",
       "1   2      1   9298.97079  15761.73288\n",
       "2   3      1  11398.99679  17689.55988\n",
       "3   4      1  11366.77179  22947.62888\n",
       "4   5      1  11441.55479  12478.12388"
      ]
     },
     "execution_count": 3,
     "metadata": {},
     "output_type": "execute_result"
    }
   ],
   "source": [
    "# Here,I drop the columns that I do not need.\n",
    "df.drop(columns=['intensity [photon]', 'bkgstd [photon]'], inplace = True)\n",
    "df.head()"
   ]
  },
  {
   "cell_type": "code",
   "execution_count": 4,
   "metadata": {},
   "outputs": [
    {
     "name": "stdout",
     "output_type": "stream",
     "text": [
      "(180898, 4)\n"
     ]
    },
    {
     "data": {
      "text/html": [
       "<div>\n",
       "<style scoped>\n",
       "    .dataframe tbody tr th:only-of-type {\n",
       "        vertical-align: middle;\n",
       "    }\n",
       "\n",
       "    .dataframe tbody tr th {\n",
       "        vertical-align: top;\n",
       "    }\n",
       "\n",
       "    .dataframe thead th {\n",
       "        text-align: right;\n",
       "    }\n",
       "</style>\n",
       "<table border=\"1\" class=\"dataframe\">\n",
       "  <thead>\n",
       "    <tr style=\"text-align: right;\">\n",
       "      <th></th>\n",
       "      <th>id</th>\n",
       "      <th>frame</th>\n",
       "      <th>x</th>\n",
       "      <th>y</th>\n",
       "    </tr>\n",
       "  </thead>\n",
       "  <tbody>\n",
       "    <tr>\n",
       "      <th>0</th>\n",
       "      <td>1</td>\n",
       "      <td>1</td>\n",
       "      <td>8757.32179</td>\n",
       "      <td>17669.20288</td>\n",
       "    </tr>\n",
       "    <tr>\n",
       "      <th>1</th>\n",
       "      <td>2</td>\n",
       "      <td>1</td>\n",
       "      <td>9298.97079</td>\n",
       "      <td>15761.73288</td>\n",
       "    </tr>\n",
       "  </tbody>\n",
       "</table>\n",
       "</div>"
      ],
      "text/plain": [
       "   id  frame           x            y\n",
       "0   1      1  8757.32179  17669.20288\n",
       "1   2      1  9298.97079  15761.73288"
      ]
     },
     "execution_count": 4,
     "metadata": {},
     "output_type": "execute_result"
    }
   ],
   "source": [
    "# Here, I rename columns to have a simple name.\n",
    "df.rename(columns={\"x [nm]\": \"x\", \"y [nm]\": \"y\"}, inplace=True)\n",
    "print(df.shape)\n",
    "df.head(2)"
   ]
  },
  {
   "cell_type": "code",
   "execution_count": 5,
   "metadata": {},
   "outputs": [
    {
     "data": {
      "text/plain": [
       "(30000, 4)"
      ]
     },
     "execution_count": 5,
     "metadata": {},
     "output_type": "execute_result"
    }
   ],
   "source": [
    "# I am only interested in the first 30000 frames so I slice the dataframe.\n",
    "df=df[:30000]\n",
    "df.shape"
   ]
  },
  {
   "cell_type": "markdown",
   "metadata": {},
   "source": [
    "## Merge data"
   ]
  },
  {
   "cell_type": "code",
   "execution_count": 6,
   "metadata": {},
   "outputs": [
    {
     "data": {
      "text/html": [
       "<div>\n",
       "<style scoped>\n",
       "    .dataframe tbody tr th:only-of-type {\n",
       "        vertical-align: middle;\n",
       "    }\n",
       "\n",
       "    .dataframe tbody tr th {\n",
       "        vertical-align: top;\n",
       "    }\n",
       "\n",
       "    .dataframe thead th {\n",
       "        text-align: right;\n",
       "    }\n",
       "</style>\n",
       "<table border=\"1\" class=\"dataframe\">\n",
       "  <thead>\n",
       "    <tr style=\"text-align: right;\">\n",
       "      <th></th>\n",
       "      <th>id</th>\n",
       "      <th>frame</th>\n",
       "      <th>x</th>\n",
       "      <th>y</th>\n",
       "      <th>merge_id</th>\n",
       "      <th>merge_distance</th>\n",
       "    </tr>\n",
       "  </thead>\n",
       "  <tbody>\n",
       "    <tr>\n",
       "      <th>0</th>\n",
       "      <td>1</td>\n",
       "      <td>1</td>\n",
       "      <td>8757.32179</td>\n",
       "      <td>17669.20288</td>\n",
       "      <td>NaN</td>\n",
       "      <td>NaN</td>\n",
       "    </tr>\n",
       "    <tr>\n",
       "      <th>1</th>\n",
       "      <td>2</td>\n",
       "      <td>1</td>\n",
       "      <td>9298.97079</td>\n",
       "      <td>15761.73288</td>\n",
       "      <td>NaN</td>\n",
       "      <td>NaN</td>\n",
       "    </tr>\n",
       "  </tbody>\n",
       "</table>\n",
       "</div>"
      ],
      "text/plain": [
       "   id  frame           x            y  merge_id  merge_distance\n",
       "0   1      1  8757.32179  17669.20288       NaN             NaN\n",
       "1   2      1  9298.97079  15761.73288       NaN             NaN"
      ]
     },
     "execution_count": 6,
     "metadata": {},
     "output_type": "execute_result"
    }
   ],
   "source": [
    "# Add an empty column named merge_id to the data frame\n",
    "df[\"merge_id\"] = np.nan\n",
    "df[\"merge_distance\"] = np.nan\n",
    "df.head(2)"
   ]
  },
  {
   "cell_type": "code",
   "execution_count": 7,
   "metadata": {},
   "outputs": [],
   "source": [
    "# I would like to time my code so that I can improve the speed later on.\n",
    "from timeit import default_timer as timer"
   ]
  },
  {
   "cell_type": "code",
   "execution_count": 8,
   "metadata": {},
   "outputs": [
    {
     "name": "stdout",
     "output_type": "stream",
     "text": [
      "time taken by this cell: 26.6966125\n"
     ]
    }
   ],
   "source": [
    "# This is the main section of the code that does the merging.\n",
    "# It may take a long time for large  files.\n",
    "# Result of the loops influence the next loop and so may not be parallelised\n",
    "# All calculations are vectorised to avoid 'for' loops and speed up things.\n",
    "# only one for loop that goes over frames.\n",
    "\n",
    "# scipy spatial is loaded so that I can calculate nearest neighbour distances\n",
    "from scipy import spatial\n",
    "\n",
    "start = timer() \n",
    "\n",
    "n=df['x'][df.frame == df.frame.unique()[0]].shape[0]\n",
    "frame_number=df.frame.unique()\n",
    "\n",
    "merge_id=np.arange(start=1, stop=n+1, step=1)\n",
    "nearest_neighbor_distance_array=np.full(n, -1)\n",
    "\n",
    "for i in range(len(frame_number)-1):\n",
    "    # I first format/prepare the data for nearest neighbour calculations\n",
    "    a = df['x'][df.frame == df.frame.unique()[i]].to_numpy()\n",
    "    b = df['y'][df.frame == df.frame.unique()[i]].to_numpy()\n",
    "    c = df['x'][df.frame == df.frame.unique()[i+1]].to_numpy()\n",
    "    d = df['y'][df.frame == df.frame.unique()[i+1]].to_numpy()\n",
    "    \n",
    "    points = np.c_[a, b]    \n",
    "    \n",
    "    e = np.r_['0,2', c, d] # concatenate along first axis, dim>=2\n",
    "    e = np.transpose(e)\n",
    "    \n",
    "    # calculate the neighbours, nearest neighbour distance and the neighbour id\n",
    "    tree = spatial.KDTree(points)\n",
    "    \n",
    "    neighbors = tree.query_ball_point(e, 60) # neighbours within 60 nm \n",
    "    nearest_neighbors_distance = tree.query(e, distance_upper_bound=60)[0] # first nearest neighbour within 60 nm, distance\n",
    "    nearest_neighbors_id= tree.query(e, distance_upper_bound=60)[1] # first nearest neighbour within 60 nm, id\n",
    "    \n",
    "    # merge id and merge distance is created\n",
    "    for j in range(len(c)):\n",
    "        if len(neighbors[j])==0:\n",
    "            merge_id=np.append([merge_id], [max(merge_id)+1])\n",
    "            # nearest neighbour distance is -1 when there is no neighbour in 60 nm\n",
    "            nearest_neighbor_distance_array= np.append([nearest_neighbor_distance_array], -1)\n",
    "        elif len(neighbors[j])>=1:\n",
    "            neighbour_id=len(merge_id) - j - len(a) + nearest_neighbors_id[j]\n",
    "            merge_id=np.append([merge_id], [merge_id[neighbour_id]])\n",
    "            nearest_neighbor_distance_array= np.append([nearest_neighbor_distance_array], nearest_neighbors_distance[j])\n",
    "\n",
    "\n",
    "print(\"time taken by this cell:\", timer()-start) "
   ]
  },
  {
   "cell_type": "code",
   "execution_count": 9,
   "metadata": {},
   "outputs": [
    {
     "data": {
      "text/html": [
       "<div>\n",
       "<style scoped>\n",
       "    .dataframe tbody tr th:only-of-type {\n",
       "        vertical-align: middle;\n",
       "    }\n",
       "\n",
       "    .dataframe tbody tr th {\n",
       "        vertical-align: top;\n",
       "    }\n",
       "\n",
       "    .dataframe thead th {\n",
       "        text-align: right;\n",
       "    }\n",
       "</style>\n",
       "<table border=\"1\" class=\"dataframe\">\n",
       "  <thead>\n",
       "    <tr style=\"text-align: right;\">\n",
       "      <th></th>\n",
       "      <th>id</th>\n",
       "      <th>frame</th>\n",
       "      <th>x</th>\n",
       "      <th>y</th>\n",
       "      <th>merge_id</th>\n",
       "      <th>merge_distance</th>\n",
       "    </tr>\n",
       "  </thead>\n",
       "  <tbody>\n",
       "    <tr>\n",
       "      <th>29995</th>\n",
       "      <td>29996</td>\n",
       "      <td>12571</td>\n",
       "      <td>16517.69784</td>\n",
       "      <td>3249.75715</td>\n",
       "      <td>11710</td>\n",
       "      <td>-1.000000</td>\n",
       "    </tr>\n",
       "    <tr>\n",
       "      <th>29996</th>\n",
       "      <td>29997</td>\n",
       "      <td>12571</td>\n",
       "      <td>16602.29184</td>\n",
       "      <td>5785.32645</td>\n",
       "      <td>11678</td>\n",
       "      <td>39.046883</td>\n",
       "    </tr>\n",
       "    <tr>\n",
       "      <th>29997</th>\n",
       "      <td>29998</td>\n",
       "      <td>12571</td>\n",
       "      <td>16567.41084</td>\n",
       "      <td>10981.62375</td>\n",
       "      <td>6954</td>\n",
       "      <td>1.880448</td>\n",
       "    </tr>\n",
       "    <tr>\n",
       "      <th>29998</th>\n",
       "      <td>29999</td>\n",
       "      <td>12571</td>\n",
       "      <td>16519.55184</td>\n",
       "      <td>16267.28275</td>\n",
       "      <td>11697</td>\n",
       "      <td>28.736149</td>\n",
       "    </tr>\n",
       "    <tr>\n",
       "      <th>29999</th>\n",
       "      <td>30000</td>\n",
       "      <td>12571</td>\n",
       "      <td>19076.41684</td>\n",
       "      <td>10992.21375</td>\n",
       "      <td>11644</td>\n",
       "      <td>56.237877</td>\n",
       "    </tr>\n",
       "  </tbody>\n",
       "</table>\n",
       "</div>"
      ],
      "text/plain": [
       "          id  frame            x            y  merge_id  merge_distance\n",
       "29995  29996  12571  16517.69784   3249.75715     11710       -1.000000\n",
       "29996  29997  12571  16602.29184   5785.32645     11678       39.046883\n",
       "29997  29998  12571  16567.41084  10981.62375      6954        1.880448\n",
       "29998  29999  12571  16519.55184  16267.28275     11697       28.736149\n",
       "29999  30000  12571  19076.41684  10992.21375     11644       56.237877"
      ]
     },
     "execution_count": 9,
     "metadata": {},
     "output_type": "execute_result"
    }
   ],
   "source": [
    "# The merge id and neighbour distance is added to the dataframe as columns\n",
    "df.merge_id = merge_id\n",
    "df.merge_distance = nearest_neighbor_distance_array\n",
    "df.tail() # I look at the bottom 5 rows of the dataframe"
   ]
  },
  {
   "cell_type": "code",
   "execution_count": 10,
   "metadata": {},
   "outputs": [],
   "source": [
    "df.to_csv('df.csv', index=False) # Dataframe df is saved with columns of merge_id and merge_distance"
   ]
  },
  {
   "cell_type": "markdown",
   "metadata": {},
   "source": [
    "Pandas groupby function can group data according to their merge_id and make calculations for each group very efficiently."
   ]
  },
  {
   "cell_type": "code",
   "execution_count": 11,
   "metadata": {},
   "outputs": [],
   "source": [
    "# The rows are grouped by merge_id\n",
    "grouped = df.groupby('merge_id')"
   ]
  },
  {
   "cell_type": "code",
   "execution_count": 12,
   "metadata": {},
   "outputs": [
    {
     "name": "stdout",
     "output_type": "stream",
     "text": [
      "<class 'pandas.core.frame.DataFrame'>\n",
      "Int64Index: 11710 entries, 1 to 11710\n",
      "Data columns (total 3 columns):\n",
      " #   Column    Non-Null Count  Dtype  \n",
      "---  ------    --------------  -----  \n",
      " 0   x         11710 non-null  float64\n",
      " 1   y         11710 non-null  float64\n",
      " 2   merge_id  11710 non-null  int32  \n",
      "dtypes: float64(2), int32(1)\n",
      "memory usage: 320.2 KB\n"
     ]
    }
   ],
   "source": [
    "# I create a merged dataframe where there is only 1 row for each fluorophore that was on for multiple consecutve frames\n",
    "df_merged = grouped.agg({'x': 'mean', 'y': 'mean', 'merge_id': 'mean' } )\n",
    "df_merged.info()"
   ]
  },
  {
   "cell_type": "code",
   "execution_count": 13,
   "metadata": {},
   "outputs": [],
   "source": [
    "# Here I caculate the detections or the number of times the fluorophore was on in consecutive frames\n",
    "df_merged[\"detections\"]=grouped.size()"
   ]
  },
  {
   "cell_type": "code",
   "execution_count": 14,
   "metadata": {},
   "outputs": [
    {
     "data": {
      "text/html": [
       "<div>\n",
       "<style scoped>\n",
       "    .dataframe tbody tr th:only-of-type {\n",
       "        vertical-align: middle;\n",
       "    }\n",
       "\n",
       "    .dataframe tbody tr th {\n",
       "        vertical-align: top;\n",
       "    }\n",
       "\n",
       "    .dataframe thead th {\n",
       "        text-align: right;\n",
       "    }\n",
       "</style>\n",
       "<table border=\"1\" class=\"dataframe\">\n",
       "  <thead>\n",
       "    <tr style=\"text-align: right;\">\n",
       "      <th></th>\n",
       "      <th>x</th>\n",
       "      <th>y</th>\n",
       "      <th>merge_id</th>\n",
       "      <th>detections</th>\n",
       "    </tr>\n",
       "    <tr>\n",
       "      <th>merge_id</th>\n",
       "      <th></th>\n",
       "      <th></th>\n",
       "      <th></th>\n",
       "      <th></th>\n",
       "    </tr>\n",
       "  </thead>\n",
       "  <tbody>\n",
       "    <tr>\n",
       "      <th>1</th>\n",
       "      <td>8767.043607</td>\n",
       "      <td>17655.516087</td>\n",
       "      <td>1</td>\n",
       "      <td>3</td>\n",
       "    </tr>\n",
       "    <tr>\n",
       "      <th>2</th>\n",
       "      <td>9298.970790</td>\n",
       "      <td>15761.732880</td>\n",
       "      <td>2</td>\n",
       "      <td>1</td>\n",
       "    </tr>\n",
       "    <tr>\n",
       "      <th>3</th>\n",
       "      <td>11409.160656</td>\n",
       "      <td>17694.023673</td>\n",
       "      <td>3</td>\n",
       "      <td>2788</td>\n",
       "    </tr>\n",
       "    <tr>\n",
       "      <th>4</th>\n",
       "      <td>11366.771790</td>\n",
       "      <td>22947.628880</td>\n",
       "      <td>4</td>\n",
       "      <td>1</td>\n",
       "    </tr>\n",
       "    <tr>\n",
       "      <th>5</th>\n",
       "      <td>11441.554790</td>\n",
       "      <td>12478.123880</td>\n",
       "      <td>5</td>\n",
       "      <td>1</td>\n",
       "    </tr>\n",
       "  </tbody>\n",
       "</table>\n",
       "</div>"
      ],
      "text/plain": [
       "                     x             y  merge_id  detections\n",
       "merge_id                                                  \n",
       "1          8767.043607  17655.516087         1           3\n",
       "2          9298.970790  15761.732880         2           1\n",
       "3         11409.160656  17694.023673         3        2788\n",
       "4         11366.771790  22947.628880         4           1\n",
       "5         11441.554790  12478.123880         5           1"
      ]
     },
     "execution_count": 14,
     "metadata": {},
     "output_type": "execute_result"
    }
   ],
   "source": [
    "df_merged.head() # check the addition of detections column"
   ]
  },
  {
   "cell_type": "markdown",
   "metadata": {},
   "source": [
    "**For most purposes, this is the information you need. In the df_merged dataframe, now you have the mean x and y position of the fluorophores that were on for multiple frames. Then the detection column tells you how many frames the fluophores with each merge id were on for. The merge_id helps you link the df_merged and df dataframes and the identity of the original localisations involved in each merge_id can be traced back.**"
   ]
  },
  {
   "cell_type": "markdown",
   "metadata": {},
   "source": [
    "### Merge quality check"
   ]
  },
  {
   "cell_type": "markdown",
   "metadata": {},
   "source": [
    "I have corrected for drift but still a stationary fluorophore or a fiducial localisations may cover a small area and this area may represent the localisation error. Alternatively, a fluorphore might not be fixed in position as it may be tethered. In both cases the distribution of the localisations from each merge_id can give important information. Ideally a fiducial should have a symmetric localisation distribution while aconfined particle may or may not have a spherical distribution. Using groupby I have explored the symmetry and size of the localisation distribution. Alternatively, merge and groupby can be used to track particles and gets its diffusion properties."
   ]
  },
  {
   "cell_type": "code",
   "execution_count": 15,
   "metadata": {},
   "outputs": [
    {
     "name": "stdout",
     "output_type": "stream",
     "text": [
      "time taken by this cell: 6.869419199999996\n"
     ]
    },
    {
     "data": {
      "text/html": [
       "<div>\n",
       "<style scoped>\n",
       "    .dataframe tbody tr th:only-of-type {\n",
       "        vertical-align: middle;\n",
       "    }\n",
       "\n",
       "    .dataframe tbody tr th {\n",
       "        vertical-align: top;\n",
       "    }\n",
       "\n",
       "    .dataframe thead th {\n",
       "        text-align: right;\n",
       "    }\n",
       "</style>\n",
       "<table border=\"1\" class=\"dataframe\">\n",
       "  <thead>\n",
       "    <tr style=\"text-align: right;\">\n",
       "      <th></th>\n",
       "      <th>x</th>\n",
       "      <th>y</th>\n",
       "      <th>merge_id</th>\n",
       "      <th>detections</th>\n",
       "      <th>X_std</th>\n",
       "      <th>Y_std</th>\n",
       "      <th>rhoRMSD</th>\n",
       "      <th>lambda_max</th>\n",
       "      <th>lambda_min</th>\n",
       "      <th>symmetry_s</th>\n",
       "    </tr>\n",
       "    <tr>\n",
       "      <th>merge_id</th>\n",
       "      <th></th>\n",
       "      <th></th>\n",
       "      <th></th>\n",
       "      <th></th>\n",
       "      <th></th>\n",
       "      <th></th>\n",
       "      <th></th>\n",
       "      <th></th>\n",
       "      <th></th>\n",
       "      <th></th>\n",
       "    </tr>\n",
       "  </thead>\n",
       "  <tbody>\n",
       "    <tr>\n",
       "      <th>1</th>\n",
       "      <td>8767.043607</td>\n",
       "      <td>17655.516087</td>\n",
       "      <td>1</td>\n",
       "      <td>3</td>\n",
       "      <td>10.81935</td>\n",
       "      <td>14.938601</td>\n",
       "      <td>15.060326</td>\n",
       "      <td>340.173237</td>\n",
       "      <td>0.046885</td>\n",
       "      <td>85.178956</td>\n",
       "    </tr>\n",
       "    <tr>\n",
       "      <th>2</th>\n",
       "      <td>9298.970790</td>\n",
       "      <td>15761.732880</td>\n",
       "      <td>2</td>\n",
       "      <td>1</td>\n",
       "      <td>NaN</td>\n",
       "      <td>NaN</td>\n",
       "      <td>0.000000</td>\n",
       "      <td>-1.000000</td>\n",
       "      <td>-1.000000</td>\n",
       "      <td>-1.000000</td>\n",
       "    </tr>\n",
       "  </tbody>\n",
       "</table>\n",
       "</div>"
      ],
      "text/plain": [
       "                    x             y  merge_id  detections     X_std  \\\n",
       "merge_id                                                              \n",
       "1         8767.043607  17655.516087         1           3  10.81935   \n",
       "2         9298.970790  15761.732880         2           1       NaN   \n",
       "\n",
       "              Y_std    rhoRMSD  lambda_max  lambda_min  symmetry_s  \n",
       "merge_id                                                            \n",
       "1         14.938601  15.060326  340.173237    0.046885   85.178956  \n",
       "2               NaN   0.000000   -1.000000   -1.000000   -1.000000  "
      ]
     },
     "execution_count": 15,
     "metadata": {},
     "output_type": "execute_result"
    }
   ],
   "source": [
    "from numpy import linalg as LA\n",
    "\n",
    "X_std=[]\n",
    "Y_std=[]\n",
    "rhoRMSD=[]\n",
    "lambda_max=[]\n",
    "lambda_min=[]\n",
    "symmetry_s=[]\n",
    "\n",
    "start = timer() \n",
    "\n",
    "for name, group in grouped:\n",
    "    \n",
    "    X_std= np.append([X_std], [group['x'].std()])# standard deviation of the x locations\n",
    "    Y_std= np.append([Y_std], [group['y'].std()])# standard deviation of the y locations \n",
    "    \n",
    "    # I calculate the centre of mass and subtract it from localisations to getthe coordinates from the centre of mass\n",
    "    x_centered=np.array(group['x']) - np.array(group['x'].mean())\n",
    "    y_centered=np.array(group['y']) - np.array(group['y'].mean())\n",
    "    \n",
    "    # I use the centre of mass corrected coordinates to calculate the root mean square distance as a measure of size\n",
    "    rhoRMSD_group=np.sqrt(np.mean(np.add(np.square(x_centered),np.square(np.array(y_centered)))))\n",
    "    rhoRMSD= np.append([rhoRMSD], [rhoRMSD_group])\n",
    "    \n",
    "    # I use the centre of mass corrected coordinates to calculate the symmetry as a measure of shape/ellipticity\n",
    "    group_count=np.array(group['x'].count())\n",
    "    if (group_count > 2):\n",
    "        eigen_values_lambda, _ = LA.eig(np.cov(x_centered, y_centered))\n",
    "        lambda_max= np.append([lambda_max], [np.amax(eigen_values_lambda)]) \n",
    "        lambda_min=np.append([lambda_min], [np.amin(eigen_values_lambda)])\n",
    "        symmetry_s=np.append([symmetry_s], [np.sqrt(np.amax(eigen_values_lambda)/np.amin(eigen_values_lambda))])\n",
    "    else:\n",
    "        lambda_max=np.append([lambda_max], -1)\n",
    "        lambda_min=np.append([lambda_min], -1)\n",
    "        symmetry_s=np.append([symmetry_s], -1)\n",
    "        \n",
    "print(\"time taken by this cell:\", timer()-start)\n",
    "\n",
    "# Here all the variables calculated are added to the dataframe as columns\n",
    "df_merged[\"X_std\"]=X_std\n",
    "df_merged[\"Y_std\"]=Y_std\n",
    "df_merged[\"rhoRMSD\"]=rhoRMSD\n",
    "df_merged[\"lambda_max\"]=lambda_max\n",
    "df_merged[\"lambda_min\"]=lambda_min\n",
    "df_merged[\"symmetry_s\"]=symmetry_s\n",
    "\n",
    "df_merged.head(2) # visualise the dataframe"
   ]
  },
  {
   "cell_type": "markdown",
   "metadata": {},
   "source": [
    "## Save dataframes df and df_merged"
   ]
  },
  {
   "cell_type": "code",
   "execution_count": 16,
   "metadata": {},
   "outputs": [],
   "source": [
    "df.to_csv('df.csv', index=False) # Dataframe df is saved with a column of merge_id"
   ]
  },
  {
   "cell_type": "code",
   "execution_count": 17,
   "metadata": {},
   "outputs": [],
   "source": [
    "df_merged.to_csv('df_merged.csv', index=False) # Dataframe df_merged is saved with a column of merge_id"
   ]
  },
  {
   "cell_type": "markdown",
   "metadata": {},
   "source": [
    "**In this notebook, I have merged localisations from a fluorophore that was on for multiple frames. I have then used the merge_id to explore each particle positional distribution. The code can be used for particle tracking. The two tables/dataframes saved can be used to compute any summary statistic desired for each merge_id.**"
   ]
  }
 ],
 "metadata": {
  "kernelspec": {
   "display_name": "Python 3",
   "language": "python",
   "name": "python3"
  },
  "language_info": {
   "codemirror_mode": {
    "name": "ipython",
    "version": 3
   },
   "file_extension": ".py",
   "mimetype": "text/x-python",
   "name": "python",
   "nbconvert_exporter": "python",
   "pygments_lexer": "ipython3",
   "version": "3.7.7"
  }
 },
 "nbformat": 4,
 "nbformat_minor": 4
}
